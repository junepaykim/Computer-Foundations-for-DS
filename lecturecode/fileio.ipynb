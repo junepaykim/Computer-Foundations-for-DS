{
 "cells": [
  {
   "cell_type": "code",
   "execution_count": 1,
   "metadata": {},
   "outputs": [
    {
     "name": "stdout",
     "output_type": "stream",
     "text": [
      "first line\n",
      "second line\n",
      "third line\n"
     ]
    }
   ],
   "source": [
    "file = open('file_example.txt', 'r')\n",
    "contents = file.read()\n",
    "file.close()\n",
    "print(contents)"
   ]
  },
  {
   "cell_type": "code",
   "execution_count": 2,
   "metadata": {},
   "outputs": [
    {
     "name": "stdout",
     "output_type": "stream",
     "text": [
      "['first line\\n', 'second line\\n', 'third line']\n"
     ]
    }
   ],
   "source": [
    "file = open('file_example.txt', 'r')\n",
    "contents2 =file.readlines()\n",
    "\n",
    "file.close()\n",
    "print(contents2)\n",
    "contents2.strip()"
   ]
  },
  {
   "cell_type": "code",
   "execution_count": 5,
   "metadata": {},
   "outputs": [
    {
     "name": "stdout",
     "output_type": "stream",
     "text": [
      "10\n"
     ]
    }
   ],
   "source": [
    "file = open('file_example.txt', 'r')\n",
    "contents3 =file.readline()\n",
    "\n",
    "file.close()\n",
    "print(contents3.index('\\n'))\n"
   ]
  },
  {
   "cell_type": "code",
   "execution_count": null,
   "metadata": {},
   "outputs": [],
   "source": [
    "from typing import TextIO\n",
    "def process_file(input_file : TextIO) -> None:\n",
    "    names=[]\n",
    "    grades=[]\n",
    "    line = input_file.readline()\n",
    "    \n",
    "    while line.startswith('#') :\n",
    "        line = input_file.readline()\n",
    "    \n",
    "    # Line에 대해 기억하고 있어야 한다! \n",
    "    \n",
    "    while line :\n",
    "        line = line.strip()\n",
    "        value = line.split()\n",
    "        names.append(value[0])\n",
    "        grades.append(value[1])\n",
    "        line = input_file.readline()"
   ]
  }
 ],
 "metadata": {
  "kernelspec": {
   "display_name": ".venv",
   "language": "python",
   "name": "python3"
  },
  "language_info": {
   "codemirror_mode": {
    "name": "ipython",
    "version": 3
   },
   "file_extension": ".py",
   "mimetype": "text/x-python",
   "name": "python",
   "nbconvert_exporter": "python",
   "pygments_lexer": "ipython3",
   "version": "3.10.10"
  },
  "orig_nbformat": 4
 },
 "nbformat": 4,
 "nbformat_minor": 2
}
