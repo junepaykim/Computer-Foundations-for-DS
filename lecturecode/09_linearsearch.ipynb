{
 "cells": [
  {
   "cell_type": "code",
   "execution_count": null,
   "metadata": {},
   "outputs": [],
   "source": [
    "def linear_search_sentinel(L: list, value: Any) -> int:\n",
    "    L.append(value)  # Add the sentinel\n",
    "    i = 0\n",
    "    while L[i] != value:\n",
    "        i = i + 1\n",
    "    L.pop()\n",
    "\n",
    "    if i == len(L):\n",
    "        return -1\n",
    "    else:\n",
    "        return i\n",
    "\n",
    "\n",
    "def linear_search_for(L: list, value: Any) -> int:\n",
    "    for i in range(len(L)):\n",
    "        if L[i] == value:\n",
    "            return i\n",
    "    return -1\n"
   ]
  },
  {
   "cell_type": "code",
   "execution_count": 1,
   "metadata": {},
   "outputs": [],
   "source": [
    "def selection_sort(L:list) -> None:\n",
    "    for i in range(len(L)):\n",
    "        smallest = i\n",
    "        for j in range (i+1, len(L)) :\n",
    "            if L[j] < L[smallest] :\n",
    "                smallest = j\n",
    "        L[i], L[smallest] = L[smallest], L[i]\n",
    "        "
   ]
  },
  {
   "cell_type": "code",
   "execution_count": 3,
   "metadata": {},
   "outputs": [
    {
     "data": {
      "text/plain": [
       "[-7, -1, 1, 2, 3, 5]"
      ]
     },
     "execution_count": 3,
     "metadata": {},
     "output_type": "execute_result"
    }
   ],
   "source": [
    "A = [3,2,1,5,-1,-7]\n",
    "selection_sort(A)\n",
    "A"
   ]
  },
  {
   "cell_type": "code",
   "execution_count": null,
   "metadata": {},
   "outputs": [],
   "source": []
  }
 ],
 "metadata": {
  "kernelspec": {
   "display_name": ".venv",
   "language": "python",
   "name": "python3"
  },
  "language_info": {
   "codemirror_mode": {
    "name": "ipython",
    "version": 3
   },
   "file_extension": ".py",
   "mimetype": "text/x-python",
   "name": "python",
   "nbconvert_exporter": "python",
   "pygments_lexer": "ipython3",
   "version": "3.10.10"
  },
  "orig_nbformat": 4
 },
 "nbformat": 4,
 "nbformat_minor": 2
}
