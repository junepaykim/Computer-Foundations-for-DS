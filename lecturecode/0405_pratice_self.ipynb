{
 "cells": [
  {
   "cell_type": "markdown",
   "metadata": {},
   "source": [
    "# 04.05.23 (Wed) Single Linked List"
   ]
  },
  {
   "cell_type": "markdown",
   "metadata": {},
   "source": [
    "# Stack"
   ]
  },
  {
   "cell_type": "markdown",
   "metadata": {},
   "source": [
    "push(x): Add a LinkedNode that has val x to myStack  \n",
    "pop: Remove the most recently added LinkedNode from myStack  \n",
    "top: Return val of the most recently added LinkedNode  \n",
    "getSize: Return the number of LinkedNodes in myStack  \n",
    "isEmpty: Return True if myStack is empty, or False otherwise."
   ]
  },
  {
   "cell_type": "code",
   "execution_count": null,
   "metadata": {
    "tags": []
   },
   "outputs": [],
   "source": [
    "class LinkedNode():\n",
    "    def __init__(self,x):\n",
    "        self.val = x\n",
    "        self.next = None\n",
    "\n",
    "class myStack():\n",
    "    def __init__(self)->None:\n",
    "        self.sentinel = LinkedNode(0)\n",
    "        self.size = 0\n",
    "\n",
    "    def push(self, x:int)->None:\n",
    "        newNode = LinkedNode(x)\n",
    "        newNode.next = self.sentinel.next\n",
    "        self.sentinel.next = newNode\n",
    "        self.size += 1\n",
    "\n",
    "    def pop(self)->None:\n",
    "        if not self.isEmpty() :\n",
    "            tmp = self.sentinel.next\n",
    "            self.sentinel.next = self.sentinel.next.next\n",
    "            tmp.next = None\n",
    "            self.size -= 1\n",
    "        \n",
    "        ##### Write your Code Here #####\n",
    "        \n",
    "    def top(self)->None:\n",
    "        if not self.isEmpty() :\n",
    "            return self.sentinel.next.val\n",
    "        return None\n",
    "        ##### Write your Code Here #####\n",
    "        \n",
    "    def getSize(self)->int:\n",
    "        return self.size\n",
    "         ##### Write your Code Here #####\n",
    "\n",
    "    def isEmpty(self)->bool:\n",
    "        return self.size == 0\n",
    "        ##### Write your Code Here #####\n"
   ]
  },
  {
   "cell_type": "code",
   "execution_count": null,
   "metadata": {
    "tags": []
   },
   "outputs": [],
   "source": [
    "s = myStack()"
   ]
  },
  {
   "cell_type": "code",
   "execution_count": null,
   "metadata": {
    "tags": []
   },
   "outputs": [],
   "source": [
    "s.push(10)\n",
    "print(s.isEmpty(), s.getSize(), s.top())\n",
    "s.pop()\n",
    "print(s.isEmpty(), s.getSize(), s.top())"
   ]
  },
  {
   "cell_type": "markdown",
   "metadata": {},
   "source": [
    "# Reversing SLL"
   ]
  },
  {
   "cell_type": "markdown",
   "metadata": {},
   "source": [
    "※ Space complexity should be O(1)  \n",
    "(Generating new LinkedLists or lists is not allowed)"
   ]
  },
  {
   "cell_type": "code",
   "execution_count": null,
   "metadata": {},
   "outputs": [],
   "source": [
    "class ListNode:\n",
    "    def __init__(self, val=0, next=None):\n",
    "        self.val = val\n",
    "        self.next = next"
   ]
  },
  {
   "cell_type": "code",
   "execution_count": 14,
   "metadata": {},
   "outputs": [],
   "source": [
    "# converting list form into a singly linked list\n",
    "def create_linked_list(l: list) -> ListNode:\n",
    "    if len(l) == 0:\n",
    "        return None\n",
    "    \n",
    "    start = ListNode(l[0])\n",
    "    node = start\n",
    "    \n",
    "    for i in range(1, len(l)):\n",
    "        node_new = ListNode(l[i])\n",
    "        node.next = node_new\n",
    "        node = node_new\n",
    "    \n",
    "    return start\n",
    "\n",
    "# printing linked-list in form of a list\n",
    "def print_linked_list(n: ListNode, l: list) -> None:\n",
    "    if n is not None:\n",
    "        l.append(n.val)\n",
    "        print_linked_list(n.next, l)\n",
    "    else:\n",
    "        print(l)\n",
    "\n",
    "\n",
    "def reverse_SSL(head: ListNode) -> ListNode: \n",
    "    ##### Write your Code Here #####\n",
    "    prev = None\n",
    "    curr = head\n",
    "    next = None\n",
    "    \n",
    "    while curr != None :\n",
    "        next = curr.next\n",
    "        curr.next = prev\n",
    "        prev = curr\n",
    "        curr = next\n",
    "    \n",
    "    return prev\n",
    "\n",
    "    return None\n",
    "    curNode = head\n",
    "    nextNode = head.next\n",
    "    while nextNode :\n",
    "        tempNode = curNode\n",
    "        curNode = curNode.next\n",
    "        nextNode = curNode.next\n",
    "        curNode.next = tempNode\n",
    "    return curNode\n",
    "\n",
    "    prev = None\n",
    "    curNode = head \n",
    "    next = None\n",
    "    \n",
    "    # change the arrow\n",
    "    while(curNode != None):\n",
    "        next = curNode.next\n",
    "        curNode.next = prev\n",
    "        # prepare for the next step \n",
    "        prev = curNode\n",
    "        curNode = next\n",
    "        \n",
    "    return prev\n",
    "    \n"
   ]
  },
  {
   "cell_type": "code",
   "execution_count": 15,
   "metadata": {},
   "outputs": [
    {
     "name": "stdout",
     "output_type": "stream",
     "text": [
      "[3, 1, 2, 4]\n"
     ]
    }
   ],
   "source": [
    "l1 =  create_linked_list([4,2,1,3])\n",
    "print_linked_list(reverse_SSL(l1),[])\n"
   ]
  },
  {
   "cell_type": "code",
   "execution_count": null,
   "metadata": {},
   "outputs": [],
   "source": []
  },
  {
   "cell_type": "code",
   "execution_count": null,
   "metadata": {},
   "outputs": [],
   "source": []
  }
 ],
 "metadata": {
  "kernelspec": {
   "display_name": "Python 3 (ipykernel)",
   "language": "python",
   "name": "python3"
  },
  "language_info": {
   "codemirror_mode": {
    "name": "ipython",
    "version": 3
   },
   "file_extension": ".py",
   "mimetype": "text/x-python",
   "name": "python",
   "nbconvert_exporter": "python",
   "pygments_lexer": "ipython3",
   "version": "3.10.10"
  },
  "vscode": {
   "interpreter": {
    "hash": "e31f0f46eebab55a29f0e124b1401c6335879e1da13c450265b689861a18de2a"
   }
  }
 },
 "nbformat": 4,
 "nbformat_minor": 4
}
