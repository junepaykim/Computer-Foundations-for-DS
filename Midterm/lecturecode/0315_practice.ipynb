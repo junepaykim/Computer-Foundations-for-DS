{
 "cells": [
  {
   "cell_type": "code",
   "execution_count": 1,
   "id": "86319562-f033-4716-aa59-ae0cde6bf896",
   "metadata": {},
   "outputs": [],
   "source": [
    "from typing import List\n",
    "def P5(num_list: List[int]) -> int:\n",
    "    ans = 0\n",
    "    for i in num_list:\n",
    "        if i > 0 :\n",
    "            ans += i\n",
    "    return ans"
   ]
  },
  {
   "cell_type": "code",
   "execution_count": 2,
   "id": "b9b94298-0b2e-498f-b402-05b0a7a6d7db",
   "metadata": {},
   "outputs": [
    {
     "data": {
      "text/plain": [
       "3"
      ]
     },
     "execution_count": 2,
     "metadata": {},
     "output_type": "execute_result"
    }
   ],
   "source": [
    "P5([1,2,-3])"
   ]
  },
  {
   "cell_type": "code",
   "execution_count": 12,
   "id": "cf62a141-454d-408a-b9bf-bf0f9042e2ce",
   "metadata": {},
   "outputs": [
    {
     "name": "stdout",
     "output_type": "stream",
     "text": [
      "*\n",
      "**\n",
      "***\n",
      "**\n",
      "*\n"
     ]
    }
   ],
   "source": [
    "def star_flag(n: int) -> None:\n",
    "    for i in range(n) :\n",
    "        if(i < n/2) :\n",
    "            print('*' * (i+1))\n",
    "        else :\n",
    "            print('*' * (n-i))\n",
    "            \n",
    "            \n",
    "star_flag(5)"
   ]
  },
  {
   "cell_type": "code",
   "execution_count": 17,
   "id": "8ca35665-d087-4722-8501-dbf717d257c9",
   "metadata": {},
   "outputs": [
    {
     "name": "stdout",
     "output_type": "stream",
     "text": [
      "*****\n",
      "   *\n",
      "  *\n",
      " *\n",
      "*****\n"
     ]
    }
   ],
   "source": [
    "def star_Z(n: int) -> None:\n",
    "    print('*' * n)\n",
    "    \n",
    "    for i in range(1, n-1):\n",
    "        print(' ' * (n-i-1) + '*')\n",
    "    \n",
    "    print('*' * n)\n",
    "    \n",
    "star_Z(5)\n"
   ]
  },
  {
   "cell_type": "code",
   "execution_count": 19,
   "id": "50f11484-0a06-422c-ab2f-a52b8e8885ba",
   "metadata": {},
   "outputs": [],
   "source": [
    "def P2(word_num_list: List[list]) -> list:\n",
    "    ans = []\n",
    "    \n",
    "    for innerList in word_num_list :\n",
    "        ans.append(innerList[0])\n",
    "    ans.sort()\n",
    "    \n",
    "    return ans"
   ]
  },
  {
   "cell_type": "code",
   "execution_count": 20,
   "id": "a9c1d45e-3413-493e-8629-36ae559cd36a",
   "metadata": {},
   "outputs": [
    {
     "data": {
      "text/plain": [
       "['ace', 'cup', 'good', 'nice']"
      ]
     },
     "execution_count": 20,
     "metadata": {},
     "output_type": "execute_result"
    }
   ],
   "source": [
    "P2([['cup', 3], ['ace', 3], ['nice', 4], ['good', 4]])"
   ]
  },
  {
   "cell_type": "code",
   "execution_count": null,
   "id": "b42c8fc8",
   "metadata": {},
   "outputs": [],
   "source": []
  }
 ],
 "metadata": {
  "kernelspec": {
   "display_name": "Python 3 (ipykernel)",
   "language": "python",
   "name": "python3"
  },
  "language_info": {
   "codemirror_mode": {
    "name": "ipython",
    "version": 3
   },
   "file_extension": ".py",
   "mimetype": "text/x-python",
   "name": "python",
   "nbconvert_exporter": "python",
   "pygments_lexer": "ipython3",
   "version": "3.10.10"
  }
 },
 "nbformat": 4,
 "nbformat_minor": 5
}
