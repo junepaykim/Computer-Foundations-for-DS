{
 "cells": [
  {
   "cell_type": "markdown",
   "metadata": {
    "id": "IuG50lboVBtV"
   },
   "source": [
    "# Practice 1 0308"
   ]
  },
  {
   "cell_type": "markdown",
   "metadata": {
    "id": "LDsh3hCSVBtY"
   },
   "source": [
    "# Variable Reassignment & Function"
   ]
  },
  {
   "cell_type": "markdown",
   "metadata": {
    "id": "6EXMn231VBtZ"
   },
   "source": [
    "## Q0. Ice breaking : Your MBTI Best Match"
   ]
  },
  {
   "cell_type": "markdown",
   "metadata": {
    "id": "fXilqBnwVBtZ"
   },
   "source": [
    "**Guidelines** \n",
    "1) Ask your group members' MBTI.<br>\n",
    "2) Put '' around your type. ex) 'MBTI'<br>\n",
    "3) See the chart below and make a function that will tell you your favorite mbti."
   ]
  },
  {
   "cell_type": "code",
   "execution_count": 2,
   "metadata": {
    "executionInfo": {
     "elapsed": 7,
     "status": "ok",
     "timestamp": 1677827863406,
     "user": {
      "displayName": "­허상우 / 학생 / 데이터사이언스학과",
      "userId": "13946907598379432344"
     },
     "user_tz": -540
    },
    "id": "Pqi8ttGwVBta"
   },
   "outputs": [],
   "source": [
    "def myMBTImatch(mine:str) -> str:\n",
    "  \n",
    "    if mine == 'ISTJ':\n",
    "        return 'ENTP', 'ENFP'\n",
    "    elif mine == 'INTJ':\n",
    "        return 'ENTP', 'ENFP'\n",
    "    elif mine == 'ISFJ' :\n",
    "        return 'ESFP', 'ESTP'\n",
    "    elif mine == 'INFJ':\n",
    "        return 'ENFP','ENTP','INTJ','INFJ' \n",
    "    elif mine == 'ISTP':\n",
    "        return 'ESFJ', 'ESTJ'\n",
    "    elif mine == 'ISFP':\n",
    "        return 'ESFJ', 'ESTJ'\n",
    "    elif mine == 'ISFP':\n",
    "        return 'ESTJ', 'ESFJ'\n",
    "    elif mine == 'INFP':\n",
    "        return 'ENFJ', 'ENTJ'\n",
    "    elif mine == 'INTP':\n",
    "        return 'ENTJ', 'ENFJ'\n",
    "    elif mine == 'ESTP':\n",
    "        return 'ISTJ', 'ISFJ'\n",
    "    elif mine == 'ESFP':\n",
    "        return 'ISTJ', 'ISFJ'\n",
    "    elif mine == 'ENFP':\n",
    "        return 'INFJ', 'INTJ'\n",
    "    elif mine == 'ENTP':\n",
    "        return 'INTJ', 'INFJ'\n",
    "    elif mine == 'ESTJ':\n",
    "        return 'ISTP', 'ISFP'\n",
    "    elif mine == 'ESFJ':\n",
    "        return 'ISFP', 'ISTP'\n",
    "    elif mine == 'ENFJ':\n",
    "        return 'INFP', 'INTP'\n",
    "    elif mine == 'ENTJ':\n",
    "        return 'INTP', 'INFP'"
   ]
  },
  {
   "cell_type": "markdown",
   "metadata": {
    "id": "33l33uSHVBtb"
   },
   "source": [
    "출처: [NCC Blog](https://www.ncchomelearning.co.uk/blog/myers-briggs-personality-types/)"
   ]
  },
  {
   "cell_type": "code",
   "execution_count": 2,
   "metadata": {
    "colab": {
     "base_uri": "https://localhost:8080/"
    },
    "executionInfo": {
     "elapsed": 131900,
     "status": "ok",
     "timestamp": 1677828014067,
     "user": {
      "displayName": "­허상우 / 학생 / 데이터사이언스학과",
      "userId": "13946907598379432344"
     },
     "user_tz": -540
    },
    "id": "h7LIf5LjVBtb",
    "outputId": "5b78d4b8-65f4-402a-db9f-08e4dc730d3d"
   },
   "outputs": [
    {
     "name": "stdout",
     "output_type": "stream",
     "text": [
      "ISFJ\n"
     ]
    }
   ],
   "source": [
    "myMBTI = input()"
   ]
  },
  {
   "cell_type": "code",
   "execution_count": 3,
   "metadata": {
    "colab": {
     "base_uri": "https://localhost:8080/"
    },
    "executionInfo": {
     "elapsed": 385,
     "status": "ok",
     "timestamp": 1677828018219,
     "user": {
      "displayName": "­허상우 / 학생 / 데이터사이언스학과",
      "userId": "13946907598379432344"
     },
     "user_tz": -540
    },
    "id": "LoXjVgV-VBtb",
    "outputId": "515704a4-3f2d-4b09-c2b2-84f5b346f2c0"
   },
   "outputs": [
    {
     "data": {
      "text/plain": [
       "('ESFP', 'ESTP')"
      ]
     },
     "execution_count": 3,
     "metadata": {},
     "output_type": "execute_result"
    }
   ],
   "source": [
    "myMBTImatch(myMBTI)"
   ]
  },
  {
   "cell_type": "markdown",
   "metadata": {
    "id": "HG-rToaJVBtc"
   },
   "source": [
    "# Practice 1.1"
   ]
  },
  {
   "cell_type": "markdown",
   "metadata": {
    "id": "TpiHJjYnVBtc"
   },
   "source": [
    "![%pro1%.png](attachment:%pro1%.png)"
   ]
  },
  {
   "cell_type": "markdown",
   "metadata": {
    "id": "iak9BbdRVBtc"
   },
   "source": [
    "# Practice 1.2"
   ]
  },
  {
   "cell_type": "markdown",
   "metadata": {
    "id": "9fMaDJO9VBtc"
   },
   "source": [
    "## Q1. exchange rate"
   ]
  },
  {
   "cell_type": "markdown",
   "metadata": {
    "id": "SiylI02EVBtc"
   },
   "source": [
    "### Suppose that the exchange rate of dollar to won is 1.5. Create a function that changes won to the dollar. "
   ]
  },
  {
   "cell_type": "markdown",
   "metadata": {
    "id": "cNhFmaGoVBtd"
   },
   "source": [
    "**Guidelines** \n",
    "1) dollar = exchange rate * won"
   ]
  },
  {
   "cell_type": "markdown",
   "metadata": {
    "id": "XVYyUHroVBtd"
   },
   "source": [
    "##### for students"
   ]
  },
  {
   "cell_type": "code",
   "execution_count": null,
   "metadata": {
    "id": "npsnqmTOVBtd"
   },
   "outputs": [],
   "source": [
    "def exchage(won:int)-> int:\n",
    "    dollar = 1.5 * won\n",
    "    return dollar \n"
   ]
  },
  {
   "cell_type": "code",
   "execution_count": null,
   "metadata": {
    "id": "Pz8cCcB4VBtd"
   },
   "outputs": [],
   "source": [
    "exchage(1500)"
   ]
  },
  {
   "cell_type": "markdown",
   "metadata": {
    "id": "X9JBFWmKVBtd"
   },
   "source": [
    "## Q2. Switching position"
   ]
  },
  {
   "cell_type": "markdown",
   "metadata": {
    "id": "bdV7gExeVBtd"
   },
   "source": [
    "### Create a function in which the position of the number variable becomes that of characters."
   ]
  },
  {
   "cell_type": "markdown",
   "metadata": {
    "id": "jErrI3cvVBtd"
   },
   "source": [
    "**Guidelines** \n",
    "1) Variable Reassignment"
   ]
  },
  {
   "cell_type": "markdown",
   "metadata": {
    "id": "BLubA_JmVBtd"
   },
   "source": [
    "##### for students"
   ]
  },
  {
   "cell_type": "code",
   "execution_count": null,
   "metadata": {
    "id": "h8ZV6gwOVBtd"
   },
   "outputs": [],
   "source": [
    "def swap_each(num: int, char: str)->None:\n",
    "        \n",
    "    #write your code here\n",
    "    num, char = char, num\n",
    "\n",
    "    return num, char"
   ]
  },
  {
   "cell_type": "code",
   "execution_count": null,
   "metadata": {},
   "outputs": [],
   "source": [
    "a = 1\n",
    "b = 'a'"
   ]
  },
  {
   "cell_type": "code",
   "execution_count": null,
   "metadata": {
    "id": "moa9Idi9VBte"
   },
   "outputs": [],
   "source": [
    "type(a)"
   ]
  },
  {
   "cell_type": "code",
   "execution_count": null,
   "metadata": {
    "id": "HEoVN9FbVBte"
   },
   "outputs": [],
   "source": [
    "type(b)"
   ]
  },
  {
   "cell_type": "code",
   "execution_count": null,
   "metadata": {},
   "outputs": [],
   "source": [
    "a, b = swap_each(a,b)"
   ]
  },
  {
   "cell_type": "code",
   "execution_count": null,
   "metadata": {},
   "outputs": [],
   "source": [
    "type(a)"
   ]
  },
  {
   "cell_type": "code",
   "execution_count": null,
   "metadata": {},
   "outputs": [],
   "source": [
    "type(b)"
   ]
  },
  {
   "cell_type": "markdown",
   "metadata": {
    "id": "50OdrYAZVBte"
   },
   "source": [
    "## Q3. Area of Circle"
   ]
  },
  {
   "cell_type": "markdown",
   "metadata": {
    "id": "aHZOpvhhVBte"
   },
   "source": [
    "### Create a function of calculating the circle area."
   ]
  },
  {
   "cell_type": "markdown",
   "metadata": {
    "id": "INv_T7LNVBte"
   },
   "source": [
    "**Guidelines** \n",
    "1) The area of a circle is equal to Pi times the radius squared."
   ]
  },
  {
   "cell_type": "code",
   "execution_count": null,
   "metadata": {
    "id": "z7Dm_o_uVBte"
   },
   "outputs": [],
   "source": [
    "from numpy import pi"
   ]
  },
  {
   "cell_type": "code",
   "execution_count": null,
   "metadata": {
    "id": "sCooTxZDVBte"
   },
   "outputs": [],
   "source": [
    "def circle_area(r:int):\n",
    "    #write your code here\n",
    "    circle_area = pi * r * r\n",
    "    return circle_area"
   ]
  },
  {
   "cell_type": "code",
   "execution_count": null,
   "metadata": {},
   "outputs": [],
   "source": [
    "circle_area(10)"
   ]
  },
  {
   "cell_type": "markdown",
   "metadata": {
    "id": "Z36WU2tNVBte"
   },
   "source": [
    "## Q4. Variable Reassignment with Function"
   ]
  },
  {
   "cell_type": "markdown",
   "metadata": {
    "id": "BFslBP7HVBte"
   },
   "source": [
    "### Create a function by following directions"
   ]
  },
  {
   "cell_type": "markdown",
   "metadata": {
    "id": "LcK1FDmwVBte"
   },
   "source": [
    "**Directions** \n",
    "1) First, define the middle and large functions last.  \\\n",
    "2) Remind what variable Reassignment is.  \\\n",
    "2) Test with calling large function."
   ]
  },
  {
   "cell_type": "markdown",
   "metadata": {
    "id": "O2_kdH0EVBte"
   },
   "source": [
    "##### large function answer"
   ]
  },
  {
   "cell_type": "markdown",
   "metadata": {},
   "source": [
    "![%pro2%.png](attachment:%pro2%.png)"
   ]
  },
  {
   "cell_type": "markdown",
   "metadata": {
    "id": "bPfKXWiEVBte"
   },
   "source": [
    "##### for students"
   ]
  },
  {
   "cell_type": "code",
   "execution_count": null,
   "metadata": {
    "id": "2dt7UUzQVBte"
   },
   "outputs": [],
   "source": [
    "def small_func() -> None:\n",
    "    #write your code here\n",
    "    \n",
    "    #write your code here\n",
    "    return"
   ]
  },
  {
   "cell_type": "code",
   "execution_count": null,
   "metadata": {
    "id": "pLusE5AYVBte"
   },
   "outputs": [],
   "source": [
    "def middle_func() -> None:\n",
    "    #write your code here   \n",
    "\n",
    "    #write your code here\n",
    "   \n",
    "    return"
   ]
  },
  {
   "cell_type": "code",
   "execution_count": null,
   "metadata": {
    "id": "XNj8TFQEVBtf"
   },
   "outputs": [],
   "source": [
    "def large_func() -> None:\n",
    "    #write your code here\n",
    " \n",
    "    #write your code here\n",
    "  \n",
    "    return"
   ]
  },
  {
   "cell_type": "code",
   "execution_count": null,
   "metadata": {
    "id": "eobLS75SVBtf"
   },
   "outputs": [],
   "source": [
    "large_func()"
   ]
  },
  {
   "cell_type": "code",
   "execution_count": null,
   "metadata": {
    "id": "fvp7NTt5VBtf"
   },
   "outputs": [],
   "source": []
  }
 ],
 "metadata": {
  "colab": {
   "provenance": []
  },
  "kernelspec": {
   "display_name": "Python 3 (ipykernel)",
   "language": "python",
   "name": "python3"
  },
  "language_info": {
   "codemirror_mode": {
    "name": "ipython",
    "version": 3
   },
   "file_extension": ".py",
   "mimetype": "text/x-python",
   "name": "python",
   "nbconvert_exporter": "python",
   "pygments_lexer": "ipython3",
   "version": "3.9.13"
  },
  "vscode": {
   "interpreter": {
    "hash": "81794d4967e6c3204c66dcd87b604927b115b27c00565d3d43f05ba2f3a2cb0d"
   }
  }
 },
 "nbformat": 4,
 "nbformat_minor": 1
}
