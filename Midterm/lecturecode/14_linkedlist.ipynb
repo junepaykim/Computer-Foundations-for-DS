{
 "cells": [
  {
   "cell_type": "code",
   "execution_count": 1,
   "metadata": {},
   "outputs": [],
   "source": [
    "class LinkedNode() :\n",
    "    def __init__(self, x) -> None:\n",
    "        self.val = x\n",
    "        self.next = None\n",
    "        \n",
    "a = LinkedNode(5)\n",
    "b = LinkedNode(7)\n",
    "a.next = b"
   ]
  },
  {
   "cell_type": "code",
   "execution_count": 6,
   "metadata": {},
   "outputs": [],
   "source": [
    "class SList:\n",
    "    def __init__(self) -> None:\n",
    "        self.first = None\n",
    "        self.size = 0\n",
    "\n",
    "    def addFirst(self, x: int) -> None:\n",
    "        newFirst = LinkedNode(x)\n",
    "        newFirst.next = self.first\n",
    "        self.first = newFirst\n",
    "        self.size += 1\n",
    "    def append(self, x:int)->None:\n",
    "        self.size+=1\n",
    "        curNode = self.first\n",
    "        while curNode.next:\n",
    "            curNode = curNode.next\n",
    "        curNode.next=LinkedNode(x)\n",
    "\n",
    "    def getFirst(self) -> None:\n",
    "        if self.first:\n",
    "            return self.first.val\n",
    "        return None\n",
    "\n",
    "    def getSize(self) -> int:\n",
    "        return self.size\n",
    "            \n"
   ]
  },
  {
   "cell_type": "code",
   "execution_count": 7,
   "metadata": {},
   "outputs": [
    {
     "data": {
      "text/plain": [
       "4"
      ]
     },
     "execution_count": 7,
     "metadata": {},
     "output_type": "execute_result"
    }
   ],
   "source": [
    "L = SList()\n",
    "L.addFirst(5)\n",
    "L.addFirst(2)\n",
    "L.addFirst(3)\n",
    "L.addFirst(4)\n",
    "L.getFirst()\n",
    "\n"
   ]
  },
  {
   "cell_type": "code",
   "execution_count": 8,
   "metadata": {},
   "outputs": [
    {
     "data": {
      "text/plain": [
       "4"
      ]
     },
     "execution_count": 8,
     "metadata": {},
     "output_type": "execute_result"
    }
   ],
   "source": [
    "L.getSize()"
   ]
  },
  {
   "cell_type": "code",
   "execution_count": null,
   "metadata": {},
   "outputs": [],
   "source": []
  }
 ],
 "metadata": {
  "kernelspec": {
   "display_name": ".venv",
   "language": "python",
   "name": "python3"
  },
  "language_info": {
   "codemirror_mode": {
    "name": "ipython",
    "version": 3
   },
   "file_extension": ".py",
   "mimetype": "text/x-python",
   "name": "python",
   "nbconvert_exporter": "python",
   "pygments_lexer": "ipython3",
   "version": "3.10.10"
  },
  "orig_nbformat": 4
 },
 "nbformat": 4,
 "nbformat_minor": 2
}
