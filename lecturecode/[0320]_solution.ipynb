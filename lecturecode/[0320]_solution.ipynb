{
 "cells": [
  {
   "cell_type": "markdown",
   "id": "cf726f29",
   "metadata": {},
   "source": [
    "# In-class Exercise"
   ]
  },
  {
   "cell_type": "markdown",
   "id": "59b87d01",
   "metadata": {},
   "source": [
    "### Q1. Find duplicates"
   ]
  },
  {
   "cell_type": "markdown",
   "id": "a2c008f6",
   "metadata": {},
   "source": [
    "[KOR] 정수(int)로만 구성된 리스트를 변수(argument)로 받고, 그중 두 번 이상 반복되는 정수의 집합(set)을 리턴하는 함수를 작성하시오.\n",
    "\n",
    "[ENG] Take a list of integers as input argument, and return a set of numbers that appear two or more times."
   ]
  },
  {
   "cell_type": "markdown",
   "id": "06eaaced",
   "metadata": {},
   "source": [
    "- ex1 - P1([1, 2, 3, 1])\n",
    "> {1}\n",
    "- ex2 - P1([1, 1, 2, 3, 3, 3]) \n",
    "> {1,3}\n",
    "- ex3 - P1([1, 2, 3, 4, 5]) \n",
    "> set()\n"
   ]
  },
  {
   "cell_type": "markdown",
   "id": "d04c3808",
   "metadata": {},
   "source": [
    "#### Solution"
   ]
  },
  {
   "cell_type": "code",
   "execution_count": null,
   "id": "8f162ac5",
   "metadata": {},
   "outputs": [],
   "source": [
    "def P1(lst: list) -> set:\n",
    "    ### Write code here ###\n",
    "\n",
    "    elem_set = set()\n",
    "    dups_set = set()\n",
    "    \n",
    "    for elem in lst:\n",
    "        if elem in elem_set:\n",
    "            dups_set.add(elem)\n",
    "        else:\n",
    "            elem_set.add(elem)\n",
    "\n",
    "    return dups_set\n",
    "\n",
    "    ### End of your code ###   "
   ]
  },
  {
   "cell_type": "markdown",
   "id": "8cd0fa28",
   "metadata": {},
   "source": [
    "### Q2. Particle with highest probability"
   ]
  },
  {
   "cell_type": "markdown",
   "id": "d047edd3",
   "metadata": {},
   "source": [
    "[KOR]\n",
    "일련의 실험을 수행한 후, 특정 다섯 종류의 아원자 입자(subatomic particles)를 탐지할 확률을 {str: float} 딕셔너리 형태로 다음과 같이 저장했다.\n",
    "> {'neutron': 0.55, ‘proton': 0.21, 'meson': 0.03, 'muon': 0.07, 'neutrino': 0.14}\n",
    "\n",
    "이러한 딕셔너리를 변수(argument)로 받아 탐지 가능성이 가장 큰 입자를 리턴하는 함수를 작성하시오. 입자가 발견될 확률이 같은 경우는 없다.\n",
    "\n",
    "[ENG]\n",
    "Probability of detecting each subatomic particles is given as follows in the form of dictionary.\n",
    "> {'neutron': 0.55, ‘proton': 0.21, 'meson': 0.03, 'muon': 0.07, 'neutrino': 0.14}\n",
    "\n",
    "Make a function that returns the particle with the highest probability. There is no case that the probability is the same among different particles."
   ]
  },
  {
   "cell_type": "markdown",
   "id": "0cee3808",
   "metadata": {},
   "source": [
    "- ex1 - P2({'neutron': 0.55, 'proton': 0.21, 'meson': 0.03, 'muon': 0.07, 'neutrino': 0.14})\n",
    "> 'neutron'\n",
    "- ex2 - P2({'neutron': 0.11, 'proton': 0.21, 'meson': 0.05, 'muon': 0.09, 'neutrino': 0.12})\n",
    "> 'proton'"
   ]
  },
  {
   "cell_type": "markdown",
   "id": "378deec1",
   "metadata": {},
   "source": [
    "#### Solution"
   ]
  },
  {
   "cell_type": "code",
   "execution_count": null,
   "id": "78c884c3",
   "metadata": {},
   "outputs": [],
   "source": [
    "def P2(dct: dict) -> str:\n",
    "    ### Write code here ###\n",
    "\n",
    "    max_prob = 0\n",
    "    name = '' # optional, but good practice if you're planning to learn C as well!\n",
    "    \n",
    "    for particle in dct:\n",
    "        prob = dct[particle]\n",
    "        if prob > max_prob:\n",
    "            max_prob = prob\n",
    "            name = particle\n",
    "\n",
    "    return name\n",
    "\n",
    "    ### End of your code ###     "
   ]
  },
  {
   "cell_type": "markdown",
   "id": "764fc4b0",
   "metadata": {},
   "source": [
    "### Q3. Check dictionary of dictionaries"
   ]
  },
  {
   "cell_type": "markdown",
   "id": "a6ed4a38",
   "metadata": {},
   "source": [
    "[KOR]\n",
    "때때로 프로그래머들은 value가 딕셔너리로 이루어진 “Dictionary of dictionaries”를 간단한 데이터베이스로 이용한다. key가 문자열(string)이고 value가 딕셔너리 형태인 “Dictionary of dictionaries”를 다음과 같이 나타낼 수 있고, 이때 value는 “inner dictionary”라 한다. “Dictionary of dictionaries”를 변수(argument)로 받아 “inner dictionaries”가 모두 같은 key 값을 가지면 1, 아니면 0을 리턴하는 함수를 작성하시오.\n",
    "\n",
    "! 조건\n",
    "1. 딕셔너리가 비어있는 경우는 없음\n",
    "2. 모든 value는 딕셔너리로 되어있음\n",
    "3. value의 value는 딕셔너리 형태가 아님\n",
    "\n",
    "\n",
    "[ENG]\n",
    "\"Dictionary of dictionaries\" refer to a dictionary that has values that are dictionaries as well. Here we have keys of strings and values of dictionaries, which we call \"inner dictionary\". Take \"Dictionary of dictionaries\" as input argument. Return 1 if all \"inner dictionaries\" have the exact same keys, else 0.\n",
    "\n",
    "! Condition\n",
    "1. input dictionaries are not empty\n",
    "2. All values are dictionaries\n",
    "3. Values of a value is not a dictionary"
   ]
  },
  {
   "cell_type": "code",
   "execution_count": null,
   "id": "becfd848",
   "metadata": {},
   "outputs": [],
   "source": [
    "{ 'jgoodall' : {'surname' : 'Goodall',\n",
    "                'forename' : 'Jane',\n",
    "                'born' : 1934,\n",
    "                'died' : None,\n",
    "                'notes' : 'primate researcher',\n",
    "                'author' : ['In the Shadow of Man','The Chimpanzees of Gombe']},\n",
    "    'rfranklin' : {'surname' : 'Franklin',\n",
    "                'forename' : 'Rosalind',\n",
    "                'born' : 1920,\n",
    "                'died' : 1957,\n",
    "                'notes' : 'contributed to discovery of DNA'},\n",
    "    'rcarson' : {'surname' : 'Carson',\n",
    "                'forename' : 'Rachel',\n",
    "                'born' : 1907,\n",
    "                'died' : 1964,\n",
    "                'notes' : 'raised awareness of effects of DDT',\n",
    "                'author' : ['Silent Spring'] }}"
   ]
  },
  {
   "cell_type": "markdown",
   "id": "ee4feb00",
   "metadata": {},
   "source": [
    "- ex1 - P3({'a': {'aa':123, 'ab': [1,2]}, 'b': {'aa': 'bb', 'ab': 'cc'}})\n",
    "> 1 (Explanation: All values have the same keys, {'aa', 'ab'}.)\n",
    "- ex2 - P3({'A': {1: 'a', 2: 'b'}, 'B': {2: 'c', 3: 'd'}})\n",
    "> 0"
   ]
  },
  {
   "cell_type": "markdown",
   "id": "b1586baf",
   "metadata": {},
   "source": [
    "#### Solution"
   ]
  },
  {
   "cell_type": "code",
   "execution_count": null,
   "id": "99f76b43",
   "metadata": {},
   "outputs": [],
   "source": [
    "def P3(dct: dict) -> int:\n",
    "    ### Write code here ###\n",
    "    \n",
    "    inner_keys_list = []\n",
    "    \n",
    "    # Build a list of set of inner keys\n",
    "    for key in dct.keys():\n",
    "        inner_keys = set(dct[key].keys()) \n",
    "        # why use set function? check type of dct[key].keys() with type function -> dict_keys \n",
    "        inner_keys_list.append(inner_keys)\n",
    "        \n",
    "    for i in range(1, len(inner_keys_list)):\n",
    "        # Compare with first set of inner keys\n",
    "        if inner_keys_list[0] != inner_keys_list[i]:\n",
    "            return 0\n",
    "\n",
    "    return 1   \n",
    "\n",
    "    ### End of your code ###  "
   ]
  },
  {
   "cell_type": "markdown",
   "id": "0408a141",
   "metadata": {},
   "source": [
    "# Extra questions"
   ]
  },
  {
   "cell_type": "markdown",
   "id": "2d209e85",
   "metadata": {},
   "source": [
    "### Q4. Common dictionary items"
   ]
  },
  {
   "cell_type": "markdown",
   "id": "271f78f5",
   "metadata": {},
   "source": [
    "[KOR]\n",
    "두 개의 딕셔너리 dct1과 dct2를 변수(arguments)로 받아 dct1과 dct2에 공통으로 포함된 key/value 쌍으로만 만든 새로운 딕셔너리를 리턴하는 함수를 작성하시오.\n",
    "\n",
    "[ENG]\n",
    "Take 2 dictionaries, dct1 and dct2 as input arguments, and return a dictionary with key/value pairs that are common in both dictionaries."
   ]
  },
  {
   "cell_type": "markdown",
   "id": "6e653707",
   "metadata": {},
   "source": [
    "- ex1 - P4({'a': 1, 'b': True, 'c': [1,2]}, {'a': 1, 'b': 123, 'c': [1,2]})\n",
    "> {'a': 1, 'c': [1, 2]}\n",
    "- ex2 - P4({'a': 1, 'b': True }, {'c': 1, 'd': 123, 'e': [1,2]})\n",
    "> {}\n",
    "- ex3 - P4({}, {'c': 1, 'd': 123, 'e': [1,2]})\n",
    "> {}"
   ]
  },
  {
   "cell_type": "markdown",
   "id": "b8c35e78",
   "metadata": {},
   "source": [
    "#### Solution"
   ]
  },
  {
   "cell_type": "code",
   "execution_count": null,
   "id": "00204a8d",
   "metadata": {},
   "outputs": [],
   "source": [
    "def P4(dct1: dict, dct2: dict) -> dict:\n",
    "    ### Write code here ###\n",
    "\n",
    "    intersection = {}\n",
    "    \n",
    "    for (key, value) in dct1.items():\n",
    "        if key in dct2 and value == dct2[key]:\n",
    "            intersection[key] = value\n",
    "\n",
    "    return intersection\n",
    "\n",
    "    ### End of your code ###     "
   ]
  },
  {
   "cell_type": "markdown",
   "id": "d6a2a24b",
   "metadata": {},
   "source": [
    "### Q5. Pairing with tuples"
   ]
  },
  {
   "cell_type": "markdown",
   "id": "05a665d2",
   "metadata": {},
   "source": [
    "길이가 같은 리스트 두 개를 변수(arguments)로 받고, 같은 인덱스를 갖는 원소끼리 짝지은 튜플(tuple)의 집합(set)을 리턴하는 함수를 작성하시오. 튜플은 (첫번째 리스트 원소, 두번째 리스트 원소) 순서로 만들어야 한다."
   ]
  },
  {
   "cell_type": "markdown",
   "id": "60ae2b86",
   "metadata": {},
   "source": [
    "- ex1 - P5(['red', 'yellow', 'purple'], ['apple', 'banana', 'grape'])\n",
    "> {('red', 'apple'), ('yellow', 'banana'), ('purple', 'grape')}\n",
    "- ex2 - P5([1, 2, 3], ['computer', 'keyboard', 'mouse'])\n",
    "> {(1, 'computer'), (2, 'keyboard', (3, 'mouse')}\n",
    "- ex3 - P5([], []) \n",
    "> set()\n"
   ]
  },
  {
   "cell_type": "markdown",
   "id": "2f6d20b9",
   "metadata": {},
   "source": [
    "#### Solution"
   ]
  },
  {
   "cell_type": "code",
   "execution_count": null,
   "id": "e7dc14b1",
   "metadata": {},
   "outputs": [],
   "source": [
    "def P5(lst1: list, lst2: list) -> set:\n",
    "    ### Write code here ###\n",
    "    \n",
    "    pair_set = set()\n",
    "    lst_len = len(lst1)\n",
    "    \n",
    "    while lst_len:\n",
    "        elem1 = lst1.pop()\n",
    "        elem2 = lst2.pop()\n",
    "        pair_set.add((elem1, elem2))\n",
    "        lst_len -= 1\n",
    "\n",
    "    return pair_set\n",
    "\n",
    "    ### End of your code ###     "
   ]
  },
  {
   "cell_type": "markdown",
   "id": "1b8ea075",
   "metadata": {},
   "source": [
    "### Q6. Dot product of sparse vectors"
   ]
  },
  {
   "cell_type": "markdown",
   "id": "736c4131",
   "metadata": {},
   "source": [
    "다음과 같이 대부분의 원소가 0으로 되어있는 벡터를 “Sparse vector”라 한다.\n",
    "> sparse_vector = [1, 0, 0, 0, 0, 0, 3, 0, 0, 0]\n",
    "\n",
    "이때 벡터를 모든 0을 포함한 형태로 리스트에 저장하면 메모리가 낭비되기 때문에 딕셔너리를 이용하여 0이 아닌 원소만 나타내기도 한다. 위의 벡터는 딕셔너리를 사용하여 다음과 같이 나타낼 수 있다. \n",
    "> sparse_vector[0] = 1, sparse_vector[6] = 3 을 딕셔너리로 표현한 것이다.\n",
    "{0: 1, 6: 3}\n",
    "\n",
    "두 벡터의 dot product는 corresponding elements의 products의 sum이다. 예를 들어 [1, 2, 3]과 [4, 5, 6]의 dot product는 4 + 10 + 18 = 32 이다. 두 “Sparse vectors”를 변수(arguments)로 받아 그들의 dot product를 계산하는 함수를 작성하시오."
   ]
  },
  {
   "cell_type": "markdown",
   "id": "06eaaced",
   "metadata": {},
   "source": [
    "- ex1 - P6({0:1, 6:3}, {0:2, 5:2, 6:2, 7:1})\n",
    "> 8\n",
    "- ex2 - P6({0:1, 6:3}, {1:-1, 2:2, 3:2, 4:1})\n",
    "> 0\n",
    "- ex3 - P6({0:1, 6:-3}, {0:-1, 6:3}) \n",
    "> -10\n"
   ]
  },
  {
   "cell_type": "markdown",
   "id": "d04c3808",
   "metadata": {},
   "source": [
    "#### Solution"
   ]
  },
  {
   "cell_type": "code",
   "execution_count": null,
   "id": "8f162ac5",
   "metadata": {},
   "outputs": [],
   "source": [
    "def P6(dct1: dict, dct2: dict) -> int: \n",
    "    ### Write code here ###\n",
    "        \n",
    "    ans = 0 \n",
    "    \n",
    "    for i in dct1: \n",
    "        if i in dct2: \n",
    "            ans += dct1[i] * dct2[i] \n",
    "            \n",
    "    return ans \n",
    "\n",
    "    ### End of your code ###      "
   ]
  }
 ],
 "metadata": {
  "kernelspec": {
   "display_name": "Python 3 (ipykernel)",
   "language": "python",
   "name": "python3"
  },
  "language_info": {
   "codemirror_mode": {
    "name": "ipython",
    "version": 3
   },
   "file_extension": ".py",
   "mimetype": "text/x-python",
   "name": "python",
   "nbconvert_exporter": "python",
   "pygments_lexer": "ipython3",
   "version": "3.10.2"
  }
 },
 "nbformat": 4,
 "nbformat_minor": 5
}
