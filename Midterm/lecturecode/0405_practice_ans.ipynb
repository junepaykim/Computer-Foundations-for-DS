{
 "cells": [
  {
   "cell_type": "markdown",
   "metadata": {},
   "source": [
    "# 04.05.23 (Wed) Single Linked List"
   ]
  },
  {
   "cell_type": "markdown",
   "metadata": {},
   "source": [
    "# Stack"
   ]
  },
  {
   "cell_type": "markdown",
   "metadata": {},
   "source": [
    "push(x): Add a LinkedNode that has val x to myStack  \n",
    "pop: Remove the most recently added LinkedNode from myStack  \n",
    "top: Return val of the most recently added LinkedNode  \n",
    "getSize: Return the number of LinkedNodes in myStack  \n",
    "isEmpty: Return True if myStack is empty, or False otherwise."
   ]
  },
  {
   "cell_type": "code",
   "execution_count": 66,
   "metadata": {
    "tags": []
   },
   "outputs": [],
   "source": [
    "class LinkedNode():\n",
    "    def __init__(self,x):\n",
    "        self.val = x\n",
    "        self.next = None\n",
    "\n",
    "class myStack():\n",
    "    def __init__(self)->None:\n",
    "        self.sentinel = LinkedNode(0)\n",
    "        self.size = 0\n",
    "\n",
    "    def push(self, x:int)->None:\n",
    "        ##### Write your Code Here #####\n",
    "        newNode = LinkedNode(x)\n",
    "        # 오른쪽 화살표 처리\n",
    "        newNode.next = self.sentinel.next\n",
    "        # 왼쪽 화살표 처리\n",
    "        self.sentinel.next = newNode\n",
    "        self.size += 1\n",
    "        \n",
    "    def pop(self)->None:\n",
    "        ##### Write your Code Here #####\n",
    "        if not self.isEmpty():\n",
    "            tmp = self.sentinel.next\n",
    "            self.sentinel.next = self.sentinel.next.next\n",
    "            tmp.next = None\n",
    "            self.size -= 1\n",
    "        \n",
    "    def top(self)->None:\n",
    "        ##### Write your Code Here #####\n",
    "        if not self.isEmpty():\n",
    "            return self.sentinel.next.val\n",
    "        return None\n",
    "        \n",
    "    def getSize(self)->int:\n",
    "        ##### Write your Code Here #####\n",
    "        return self.size \n",
    "    def isEmpty(self)->bool:\n",
    "        ##### Write your Code Here #####\n",
    "        return self.size == 0"
   ]
  },
  {
   "cell_type": "code",
   "execution_count": 67,
   "metadata": {
    "tags": []
   },
   "outputs": [],
   "source": [
    "s = myStack()"
   ]
  },
  {
   "cell_type": "code",
   "execution_count": 68,
   "metadata": {
    "tags": []
   },
   "outputs": [
    {
     "name": "stdout",
     "output_type": "stream",
     "text": [
      "False 1 10\n",
      "True 0 None\n"
     ]
    }
   ],
   "source": [
    "s.push(10)\n",
    "print(s.isEmpty(), s.getSize(), s.top())\n",
    "s.pop()\n",
    "print(s.isEmpty(), s.getSize(), s.top())"
   ]
  },
  {
   "cell_type": "markdown",
   "metadata": {},
   "source": [
    "# Reversing SLL"
   ]
  },
  {
   "cell_type": "markdown",
   "metadata": {},
   "source": [
    "※ Space complexity should be O(1)  \n",
    "(Generating new LinkedLists or lists is not allowed)"
   ]
  },
  {
   "cell_type": "code",
   "execution_count": 74,
   "metadata": {},
   "outputs": [],
   "source": [
    "# converting list form into a singly linked list\n",
    "class ListNode:\n",
    "    def __init__(self, val=0, next=None):\n",
    "        self.val = val\n",
    "        self.next = next\n",
    "        \n",
    "def create_linked_list(l: list) -> ListNode:\n",
    "    if len(l) == 0:\n",
    "        return None\n",
    "    \n",
    "    start = ListNode(l[0])\n",
    "    node = start\n",
    "    \n",
    "    for i in range(1, len(l)):\n",
    "        node_new = ListNode(l[i])\n",
    "        node.next = node_new\n",
    "        node = node_new\n",
    "    \n",
    "    return start\n",
    "\n",
    "# printing linked-list in form of a list\n",
    "def print_linked_list(n: ListNode, l: list) -> None:\n",
    "    if n is not None:\n",
    "        l.append(n.val)\n",
    "        print_linked_list(n.next, l)\n",
    "    else:\n",
    "        print(l)\n",
    "\n",
    "\n",
    "def reverse_SSL(head: ListNode) -> ListNode: \n",
    "    ##### Write your Code Here #####\n",
    "    prev = None\n",
    "    curNode = head \n",
    "    next = None\n",
    "    \n",
    "    # change the arrow\n",
    "    while(curNode != None):\n",
    "        next = curNode.next\n",
    "        curNode.next = prev\n",
    "        # prepare for the next step \n",
    "        prev = curNode\n",
    "        curNode = next\n",
    "        \n",
    "    return prev"
   ]
  },
  {
   "cell_type": "code",
   "execution_count": 75,
   "metadata": {},
   "outputs": [
    {
     "name": "stdout",
     "output_type": "stream",
     "text": [
      "[2, 1, 7, 6, 5, 3, 1, 2, 4]\n"
     ]
    }
   ],
   "source": [
    "l1 =  create_linked_list([4,2,1,3,5,6,7,1,2,])\n",
    "print_linked_list(reverse_SSL(l1),[])"
   ]
  },
  {
   "cell_type": "code",
   "execution_count": null,
   "metadata": {},
   "outputs": [],
   "source": []
  },
  {
   "cell_type": "code",
   "execution_count": null,
   "metadata": {},
   "outputs": [],
   "source": []
  },
  {
   "cell_type": "code",
   "execution_count": null,
   "metadata": {},
   "outputs": [],
   "source": []
  },
  {
   "cell_type": "code",
   "execution_count": null,
   "metadata": {},
   "outputs": [],
   "source": []
  },
  {
   "cell_type": "code",
   "execution_count": null,
   "metadata": {},
   "outputs": [],
   "source": []
  },
  {
   "cell_type": "code",
   "execution_count": 40,
   "metadata": {
    "tags": []
   },
   "outputs": [],
   "source": [
    "class myStack():\n",
    "    def __init__(self)->None:\n",
    "        self.sentinel = LinkedNode(0)\n",
    "        self.size = 0\n",
    "\n",
    "    def push(self, x:int)->None:\n",
    "        newNode = LinkedNode(x)\n",
    "        newNode.next = self.sentinel.next\n",
    "        self.sentinel.next = newNode\n",
    "        self.size +=1\n",
    "\n",
    "    def pop(self)->None:\n",
    "        if not self.isEmpty():\n",
    "            removal = self.sentinel.next\n",
    "            self.sentinel.next = self.sentinel.next.next \n",
    "            removal.next = None\n",
    "            self.size -=1 \n",
    "\n",
    "    def top(self)->None:\n",
    "        if not self.isEmpty():\n",
    "            return self.sentinel.next.val\n",
    "        else:\n",
    "            return None\n",
    "\n",
    "    def getSize(self)->int:\n",
    "        return self.size \n",
    "\n",
    "    def isEmpty(self)->bool:\n",
    "        return self.size==0\n"
   ]
  },
  {
   "cell_type": "code",
   "execution_count": 41,
   "metadata": {
    "jupyter": {
     "source_hidden": true
    },
    "tags": []
   },
   "outputs": [],
   "source": [
    "def reverse_SSL(head: ListNode) -> ListNode: \n",
    "    ##### Write your Code Here #####\n",
    "    prev = None\n",
    "    curNode = head\n",
    "    next = None\n",
    "    \n",
    "    while(curNode !=None):\n",
    "        next = curNode.next\n",
    "        curNode.next = prev\n",
    "        prev = curNode\n",
    "        curNode = next\n",
    "\n",
    "    return prev"
   ]
  },
  {
   "cell_type": "code",
   "execution_count": null,
   "metadata": {},
   "outputs": [],
   "source": []
  }
 ],
 "metadata": {
  "kernelspec": {
   "display_name": "Python 3 (ipykernel)",
   "language": "python",
   "name": "python3"
  },
  "language_info": {
   "codemirror_mode": {
    "name": "ipython",
    "version": 3
   },
   "file_extension": ".py",
   "mimetype": "text/x-python",
   "name": "python",
   "nbconvert_exporter": "python",
   "pygments_lexer": "ipython3",
   "version": "3.8.16"
  },
  "vscode": {
   "interpreter": {
    "hash": "e31f0f46eebab55a29f0e124b1401c6335879e1da13c450265b689861a18de2a"
   }
  }
 },
 "nbformat": 4,
 "nbformat_minor": 4
}
