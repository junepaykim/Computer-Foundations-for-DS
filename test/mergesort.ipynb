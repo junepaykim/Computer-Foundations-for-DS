{
 "cells": [
  {
   "cell_type": "code",
   "execution_count": 41,
   "metadata": {},
   "outputs": [],
   "source": [
    "def mergeSortHelp(L: list, first: int, last: int, M:int, C:int, flag : int) :\n",
    "    counter = C\n",
    "    if first != last:\n",
    "        mid = first + (last - first) // 2\n",
    "        #print(f'First Counter is {counter}')\n",
    "        counter, flag = mergeSortHelp(L, first, mid, M, counter, flag)\n",
    "        #print(f'Second Counter is {counter}')\n",
    "        counter, flag = mergeSortHelp(L, mid + 1, last, M, counter, flag)\n",
    "        \n",
    "        k = first\n",
    "        sub1 = L[first : mid + 1]\n",
    "        sub2 = L[mid + 1 : last + 1]\n",
    "        i = j = 0\n",
    "\n",
    "        while i < len(sub1) and j < len(sub2):\n",
    "            if sub1[i] <= sub2[j]:\n",
    "                counter += 1\n",
    "                if M == counter :\n",
    "                    flag = sub1[i]\n",
    "                L[k] = sub1[i]\n",
    "                i = i + 1\n",
    "            else:\n",
    "                counter += 1\n",
    "                if M == counter :\n",
    "                    flag = sub2[j]\n",
    "                L[k] = sub2[j]\n",
    "                j = j + 1\n",
    "            k = k + 1\n",
    "\n",
    "        if i < len(sub1):\n",
    "            for n in range(len(sub1) - i):\n",
    "                counter += 1\n",
    "                if M == counter :\n",
    "                    flag = sub1[i+n]     \n",
    "                L[k + n] = sub1[i + n]\n",
    "                \n",
    "        elif j < len(sub2):\n",
    "            for n in range(len(sub2) - j):\n",
    "                counter += 1\n",
    "                if M == counter :\n",
    "                    flag = sub2[j+n]     \n",
    "                L[k + n] = sub2[j + n]\n",
    "                \n",
    "        if flag != -1 :\n",
    "            print(f'flag : {flag}')\n",
    "            pass\n",
    "        else :\n",
    "            print(f'flag : {flag} but counter is counter : {counter}')\n",
    "            pass\n",
    "        return counter, flag\n",
    "    else :\n",
    "        return counter, flag\n",
    "\n",
    "def mergeSort(L: list, M: int) -> int:\n",
    "    flag = -1\n",
    "    _, flag = mergeSortHelp(L, 0, len(L) - 1, M, 0, flag)\n",
    "    return flag\n"
   ]
  },
  {
   "cell_type": "code",
   "execution_count": 42,
   "metadata": {},
   "outputs": [
    {
     "name": "stdout",
     "output_type": "stream",
     "text": [
      "flag : -1 but counter is counter : 2\n",
      "flag : -1 but counter is counter : 5\n",
      "flag : 3\n",
      "flag : 3\n",
      "Final Counter is 3\n"
     ]
    },
    {
     "data": {
      "text/plain": [
       "[1, 2, 3, 4, 5]"
      ]
     },
     "execution_count": 42,
     "metadata": {},
     "output_type": "execute_result"
    }
   ],
   "source": [
    "myList = [4,5,1,3,2]\n",
    "print(f'Final Counter is {mergeSort(myList, 7)}')\n",
    "myList"
   ]
  },
  {
   "cell_type": "code",
   "execution_count": 30,
   "metadata": {},
   "outputs": [
    {
     "name": "stdout",
     "output_type": "stream",
     "text": [
      "First Counter is 0\n",
      "First Counter is 0\n",
      "First Counter is 0\n",
      "First Counter is 0\n",
      "Second Counter is 0\n",
      "2\n",
      "Second Counter is 2\n",
      "5\n",
      "Second Counter is 5\n",
      "First Counter is 5\n",
      "Second Counter is 5\n",
      "7\n",
      "12\n",
      "Second Counter is 12\n",
      "First Counter is 12\n",
      "First Counter is 12\n",
      "Second Counter is 12\n",
      "14\n",
      "Second Counter is 14\n",
      "First Counter is 14\n",
      "Second Counter is 14\n",
      "16\n",
      "20\n",
      "29\n",
      "Final Counter is 29\n"
     ]
    },
    {
     "data": {
      "text/plain": [
       "[1, 1, 3, 5, 15, 54, 65, 1451, 16166]"
      ]
     },
     "execution_count": 30,
     "metadata": {},
     "output_type": "execute_result"
    }
   ],
   "source": [
    "myList2 = [1,5,3,54,1,65,15,16166,1451]\n",
    "print(f'Final Counter is {mergeSort(myList2, 13)}')\n",
    "\n",
    "myList2"
   ]
  },
  {
   "cell_type": "code",
   "execution_count": null,
   "metadata": {},
   "outputs": [],
   "source": []
  }
 ],
 "metadata": {
  "kernelspec": {
   "display_name": ".venv",
   "language": "python",
   "name": "python3"
  },
  "language_info": {
   "codemirror_mode": {
    "name": "ipython",
    "version": 3
   },
   "file_extension": ".py",
   "mimetype": "text/x-python",
   "name": "python",
   "nbconvert_exporter": "python",
   "pygments_lexer": "ipython3",
   "version": "3.10.10"
  },
  "orig_nbformat": 4
 },
 "nbformat": 4,
 "nbformat_minor": 2
}
