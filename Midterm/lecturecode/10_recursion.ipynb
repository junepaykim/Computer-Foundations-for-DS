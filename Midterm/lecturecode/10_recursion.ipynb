{
 "cells": [
  {
   "cell_type": "code",
   "execution_count": null,
   "metadata": {},
   "outputs": [],
   "source": [
    "def facto_recur(n: int) -> int:\n",
    "    if n == 0:\n",
    "        return 1\n",
    "    else:\n",
    "        return n * facto_recur(n - 1)\n"
   ]
  },
  {
   "cell_type": "code",
   "execution_count": null,
   "metadata": {},
   "outputs": [],
   "source": [
    "def merge(L: list, first: int, mid: int, last: int) -> None:\n",
    "    # initialization\n",
    "    k = first\n",
    "    sub1 = L[first : mid + 1]  # Additional memory for list copy\n",
    "    sub2 = L[mid + 1 : last + 1]\n",
    "    i = j = 0\n",
    "\n",
    "    while i < len(sub1) and j < len(sub2):\n",
    "        if sub1[i] <= sub2[j]:\n",
    "            L[k] = sub1[i]\n",
    "            i += 1\n",
    "        else:\n",
    "            L[k] = sub2[j]\n",
    "            j += 1\n",
    "        k = k + 1\n",
    "\n",
    "    # At least one sublist is finished\n",
    "    if i < len(sub1):\n",
    "        L[k : last + 1] = sub1[i:]\n",
    "    elif j < len(sub2):\n",
    "        L[k : last + 1] = sub2[j:]\n",
    "\n",
    "\n",
    "def merge_sort(L: list):\n",
    "    mergeSortHelp(L, 0, len(L) - 1)\n",
    "\n",
    "\n",
    "def mergeSortHelp(L: list, first: int, last: int) -> None:\n",
    "    if first == last:\n",
    "        return\n",
    "    else:\n",
    "        # step1 : Divide it into two sublists\n",
    "        mid = first + (last - first) // 2\n",
    "        # Setp2: Sort the two sublists\n",
    "        mergeSortHelp(L, first, mid)\n",
    "        mergeSortHelp(L, mid + 1, last)\n",
    "        # Step3 : Merge the two sorted sublists\n",
    "        merge(L, first, mid, last)\n"
   ]
  },
  {
   "cell_type": "code",
   "execution_count": null,
   "metadata": {},
   "outputs": [],
   "source": [
    "def question(l: list, target: int) -> list:\n",
    "    for i in range(len(l)):\n",
    "        for j in range(i+1, len(l)):\n",
    "            if l[i] + l[j] == target:\n",
    "                return [i, j]\n",
    "    return [-1, -1]\n",
    "\n",
    "def twoSum(nums:list, target=int) -> list:\n",
    "    myDict = {}\n",
    "    for i in range(len(nums)):\n",
    "        myDict[nums[i]]=i\n",
    "    for i in range(len(nums)):\n",
    "        complement = target-nums[i]\n",
    "        if complement in myDict:\n",
    "            return [i, myDict[complement]]\n",
    "        \n",
    "def twoSumImp(nums:list, target=int)- > list:\n",
    "    myDict = {}\n",
    "    for i in range(len(nums)):\n",
    "        if nums[i] in myDict:\n",
    "            return [myDict[nums[i]], i]\n",
    "        complement = target - nums[i]\n",
    "        myDict[complement] = i"
   ]
  }
 ],
 "metadata": {
  "language_info": {
   "name": "python"
  },
  "orig_nbformat": 4
 },
 "nbformat": 4,
 "nbformat_minor": 2
}
