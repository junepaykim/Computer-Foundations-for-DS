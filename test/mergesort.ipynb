{
 "cells": [
  {
   "cell_type": "code",
   "execution_count": 5,
   "metadata": {},
   "outputs": [],
   "source": [
    "def merge(L: list, first: int, mid: int, last: int) -> None:\n",
    "    # initialization\n",
    "    k = first\n",
    "    sub1 = L[first : mid + 1]\n",
    "    sub2 = L[mid + 1 : last + 1]\n",
    "    i = j = 0\n",
    "\n",
    "    while i < len(sub1) and j < len(sub2):\n",
    "        if sub1[i] <= sub2[j]:\n",
    "            L[k] = sub1[i]\n",
    "            i = i + 1\n",
    "        else:\n",
    "            L[k] = sub2[j]\n",
    "            j = j + 1\n",
    "        k = k + 1\n",
    "\n",
    "    if i < len(sub1):\n",
    "        for i in range(len(sub1)) :\n",
    "            pass\n",
    "        L[k : last + 1] = sub1[i:]\n",
    "    elif j < len(sub2):\n",
    "        L[k : last + 1] = sub2[j:]\n",
    "\n",
    "\n",
    "def mergeSortHelp(L: list, first: int, last: int) -> None:\n",
    "    if first == last:\n",
    "        return\n",
    "    else:\n",
    "        mid = first + (last - first) // 2\n",
    "        mergeSortHelp(L, first, mid)\n",
    "        mergeSortHelp(L, mid + 1, last)\n",
    "        merge(L, first, mid, last)\n",
    "\n",
    "\n",
    "def mergeSort(L: list) -> None:\n",
    "    mergeSortHelp(L, 0, len(L) - 1)\n"
   ]
  },
  {
   "cell_type": "code",
   "execution_count": 6,
   "metadata": {},
   "outputs": [
    {
     "name": "stdout",
     "output_type": "stream",
     "text": [
      "merge started\n",
      "merge started\n",
      "merge started\n",
      "merge started\n",
      "merge started\n",
      "merge started\n"
     ]
    },
    {
     "data": {
      "text/plain": [
       "[1, 2, 3, 4, 5, 6, 7]"
      ]
     },
     "execution_count": 6,
     "metadata": {},
     "output_type": "execute_result"
    }
   ],
   "source": [
    "myList = [7,6,5,4,3,2,1]\n",
    "mergeSort(myList)\n",
    "myList"
   ]
  },
  {
   "cell_type": "code",
   "execution_count": 4,
   "metadata": {},
   "outputs": [
    {
     "data": {
      "text/plain": [
       "[1, 1, 3, 5, 15, 54, 65, 1451, 16166]"
      ]
     },
     "execution_count": 4,
     "metadata": {},
     "output_type": "execute_result"
    }
   ],
   "source": [
    "myList2 = [1,5,3,54,1,65,15,16166,1451]\n",
    "mergeSort(myList2)\n",
    "myList2"
   ]
  },
  {
   "cell_type": "code",
   "execution_count": null,
   "metadata": {},
   "outputs": [],
   "source": []
  }
 ],
 "metadata": {
  "kernelspec": {
   "display_name": ".venv",
   "language": "python",
   "name": "python3"
  },
  "language_info": {
   "codemirror_mode": {
    "name": "ipython",
    "version": 3
   },
   "file_extension": ".py",
   "mimetype": "text/x-python",
   "name": "python",
   "nbconvert_exporter": "python",
   "pygments_lexer": "ipython3",
   "version": "3.10.10"
  },
  "orig_nbformat": 4
 },
 "nbformat": 4,
 "nbformat_minor": 2
}
