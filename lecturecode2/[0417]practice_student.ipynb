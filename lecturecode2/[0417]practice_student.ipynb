{
 "cells": [
  {
   "cell_type": "markdown",
   "id": "cf726f29",
   "metadata": {},
   "source": [
    "# Practice"
   ]
  },
  {
   "cell_type": "markdown",
   "id": "59b87d01",
   "metadata": {},
   "source": [
    "### Q1. Binary Search Tree Implementation"
   ]
  },
  {
   "cell_type": "markdown",
   "id": "a2c008f6",
   "metadata": {},
   "source": [
    "Implement a binary search tree that has the following three methods:\n",
    "- search method\n",
    "- insert method\n",
    "- delete method"
   ]
  },
  {
   "cell_type": "markdown",
   "id": "6f5c2c88",
   "metadata": {},
   "source": [
    "First two methods are provided for you, so implement the delete method.\n",
    "<br>\n",
    "Complete the delete, deleteHelp, and findMax function. "
   ]
  },
  {
   "cell_type": "markdown",
   "id": "72c0386f",
   "metadata": {},
   "source": [
    "- (1) Base case – case that returns a variable or constant value\n",
    "- (2) Recursive case – case that uses the function being defined or another function again"
   ]
  },
  {
   "cell_type": "markdown",
   "id": "d04c3808",
   "metadata": {},
   "source": [
    "#### Solution"
   ]
  },
  {
   "cell_type": "code",
   "execution_count": 1,
   "id": "2514428f",
   "metadata": {},
   "outputs": [],
   "source": [
    "class TreeNode():\n",
    "    def __init__(self, x:int):\n",
    "        self.val = x\n",
    "        self.left = None\n",
    "        self.right = None"
   ]
  },
  {
   "cell_type": "code",
   "execution_count": 24,
   "id": "58fc7bba",
   "metadata": {},
   "outputs": [
    {
     "ename": "SyntaxError",
     "evalue": "cannot assign to function call (3675660788.py, line 100)",
     "output_type": "error",
     "traceback": [
      "\u001b[1;36m  Cell \u001b[1;32mIn[24], line 100\u001b[1;36m\u001b[0m\n\u001b[1;33m    curNode.right = self.__deleteHelp(curNode.right, curNode.val) = self.__deleteHelp(curNode.right, curNode.val)\u001b[0m\n\u001b[1;37m                    ^\u001b[0m\n\u001b[1;31mSyntaxError\u001b[0m\u001b[1;31m:\u001b[0m cannot assign to function call\n"
     ]
    }
   ],
   "source": [
    "class BST():\n",
    "    def __init__(self, root:TreeNode) -> None:\n",
    "        self.root = root\n",
    "        \n",
    "    def __searchHelp(self, curNode: TreeNode, x: int) -> TreeNode:\n",
    "        # (1) Base Case\n",
    "        if not curNode:\n",
    "            return None\n",
    "        if x == curNode.val:\n",
    "            return curNode\n",
    "        \n",
    "        # (2) Recursive case\n",
    "        if x < curNode.val:\n",
    "            return self.__searchHelp(curNode.left, x)\n",
    "        else:\n",
    "            return self.__searchHelp(curNode.right, x)\n",
    "        \n",
    "    def search(self, x:int) -> TreeNode:\n",
    "        return self.__searchHelp(self.root, x)\n",
    "    \n",
    "    def __insertHelp(self, curNode: TreeNode, x: int) -> TreeNode:\n",
    "        # (1) Base Case\n",
    "        if not curNode:\n",
    "            return TreeNode(x)\n",
    "        if x == curNode.val:\n",
    "            return curNode\n",
    "        \n",
    "        # (2) Recursive case\n",
    "        if x < curNode.val:\n",
    "            curNode.left = self.__insertHelp(curNode.left, x)\n",
    "        else: \n",
    "            curNode.right = self.__insertHelp(curNode.right, x)\n",
    "        \n",
    "        return curNode\n",
    "    \n",
    "    def insert(self, x: int) -> None:\n",
    "        self.root = self.__insertHelp(self.root, x)\n",
    "    \n",
    "    def __findMax(self, curNode: TreeNode) -> int:\n",
    "        # (1) Base Case\n",
    "        # When you can't move more to the right, return the value of curNode\n",
    "        ### Write you code here ###\n",
    "        if not curNode.right: \n",
    "            return curNode.val\n",
    "        ### End of your code ###\n",
    "        # (2) Recursive Case\n",
    "        # When you can move more to the right, keep looking for the node with max value\n",
    "        ### Write you code here ###\n",
    "        else:\n",
    "            return self.__findMax(curNode.right)\n",
    "        ### End of your code ###\n",
    "    \n",
    "    # Scan through a subtree which has curNode as its root, \n",
    "    # and return a new (if necessary) root\n",
    "    def __deleteHelp(self, curNode: TreeNode, x: int) -> TreeNode:\n",
    "            \n",
    "        # (1) Base Case\n",
    "        if not curNode:\n",
    "            return None\n",
    "\n",
    "        # (2) Recursive Case\n",
    "        if x < curNode.val:\n",
    "            curNode.left =  self.__deleteHelp(curNode.left, x)\n",
    "            # delete x from curNode's left,\n",
    "            # and replace its left node with a new (if necessary) root of left subtree\n",
    "\n",
    "        elif x > curNode.val:\n",
    "            # delete x from curNode's right,\n",
    "            # and replace its left node with a new (if necessary) root of right subtree\n",
    "            ### Write code here ###\n",
    "            curNode.right = self.__deleteHelp(curNode.right, x)\n",
    "\n",
    "            ### End of your code ###\n",
    "\n",
    "\n",
    "        else: # x == curNode.val\n",
    "            # (1) No child\n",
    "            if not curNode.left and not curNode.right :\n",
    "                return None\n",
    "\n",
    "            # (2) One child\n",
    "            elif not curNode.left:\n",
    "                return curNode.right\n",
    "            elif not curNode.right:\n",
    "                return curNode.left\n",
    "\n",
    "            else :\n",
    "                maxLeft = self.__findMax(curNode.left)\n",
    "                curNode.val = maxLeft\n",
    "                curNode.left = self.__deleteHelp(curNode.left, maxLeft)\n",
    "            # (3)  Two children\n",
    "            # delete curNode by replacing itself with the node that has either\n",
    "            # [a] the biggest value from its left subtree, or\n",
    "            # [b] the smallest value from its right subtree\n",
    "            # Here, choose and implement method [a]\n",
    "        return curNode\n",
    "                # (1) Base Case\n",
    "        ### Write code here ###\n",
    "        if not curNode:\n",
    "            return None\n",
    "        ### End of your code ###\n",
    "        \n",
    "        # (2) Recursive Case\n",
    "        if x < curNode.val:\n",
    "            # delete x from curNode's left,\n",
    "            # and replace its left node with a new (if necessary) root of left subtree\n",
    "            ### Write code here ###\n",
    "            curNode.left = self.__deleteHelp(curNode.left, x)\n",
    "            ### End of your code ###\n",
    "\n",
    "        elif x > curNode.val:\n",
    "            # delete x from curNode's right,\n",
    "            # and replace its left node with a new (if necessary) root of right subtree\n",
    "            ### Write code here ###\n",
    "            curNode.right = self.__deleteHelp(curNode.right, x)\n",
    "            ### End of your code ###\n",
    "\n",
    "        else: # x == curNode.val\n",
    "            # (1) No child\n",
    "            ### Write code here ###\n",
    "            if (not curNode.left) and (not curNode.right):\n",
    "                return None\n",
    "            ### End of your code ###\n",
    "            \n",
    "            # (2) One child\n",
    "            ### Write code here ###\n",
    "            elif (not curNode.left) or (not curNode.right):\n",
    "                if curNode.left:\n",
    "                    return curNode.left\n",
    "                else:\n",
    "                    return curNode.right\n",
    "            ### End of your code ###\n",
    "            \n",
    "            # (3)  Two children\n",
    "            # delete curNode by replacing itself with the node that has either\n",
    "            # [a] the biggest value from its left subtree, or\n",
    "            # [b] the smallest value from its right subtree\n",
    "            # Here, choose and implement method [a]\n",
    "            ### Write code here ###\n",
    "            curNode.val = self.__findMax(curNode)\n",
    "            curNode.right = self.__deleteHelp(curNode.right, curNode.val) = self.__deleteHelp(curNode.right, curNode.val)\n",
    "            ### End of your code ###\n",
    "        return curNode\n",
    "    \n",
    "        \n",
    "        \n",
    "    def delete(self, x:int) -> None:\n",
    "        # root may change when some node is erased \n",
    "        self.root = self.__deleteHelp(self.root, x)"
   ]
  },
  {
   "cell_type": "code",
   "execution_count": 20,
   "id": "eb487309",
   "metadata": {},
   "outputs": [],
   "source": [
    "tree1 = TreeNode(1)\n",
    "tree2 = TreeNode(2)\n",
    "tree3 = TreeNode(3)\n",
    "tree4 = TreeNode(4)\n",
    "tree5 = TreeNode(5)\n",
    "tree6 = TreeNode(6)\n",
    "tree7 = TreeNode(7)\n",
    "\n",
    "tree4.left = tree2\n",
    "tree4.right = tree6\n",
    "\n",
    "tree2.left = tree1\n",
    "tree2.right = tree3\n",
    "\n",
    "tree6.left = tree5\n",
    "tree6.right = tree7\n",
    "\n",
    "# Instance of class BST, setting node with value of 4 as its root\n",
    "myTree = BST(tree4)"
   ]
  },
  {
   "cell_type": "code",
   "execution_count": 21,
   "id": "bf06a081",
   "metadata": {},
   "outputs": [
    {
     "name": "stdout",
     "output_type": "stream",
     "text": [
      "<__main__.TreeNode object at 0x000001C24B2DCD30> 6\n"
     ]
    }
   ],
   "source": [
    "# Test search\n",
    "node = myTree.search(6)\n",
    "if node == None:\n",
    "    print(node)\n",
    "else:\n",
    "    print(node, node.val)"
   ]
  },
  {
   "cell_type": "code",
   "execution_count": 22,
   "id": "0dd05cdb",
   "metadata": {},
   "outputs": [
    {
     "name": "stdout",
     "output_type": "stream",
     "text": [
      "<__main__.TreeNode object at 0x000001C24B283820> 8\n"
     ]
    }
   ],
   "source": [
    "# Test insert\n",
    "myTree.insert(8)\n",
    "node = myTree.search(8)\n",
    "if node == None:\n",
    "    print(node)\n",
    "else:\n",
    "    print(node, node.val)"
   ]
  },
  {
   "cell_type": "code",
   "execution_count": 23,
   "id": "460709bb",
   "metadata": {},
   "outputs": [
    {
     "name": "stdout",
     "output_type": "stream",
     "text": [
      "root: 4\n",
      "new root: 3\n"
     ]
    }
   ],
   "source": [
    "# Test delete - 1\n",
    "print(\"root:\", myTree.root.val)\n",
    "myTree.delete(4)\n",
    "print(\"new root:\", myTree.root.val)"
   ]
  },
  {
   "cell_type": "code",
   "execution_count": 16,
   "id": "4e8b6ab5",
   "metadata": {},
   "outputs": [
    {
     "name": "stdout",
     "output_type": "stream",
     "text": [
      "Is there node with the value of 4?\n",
      "None\n"
     ]
    }
   ],
   "source": [
    "# Test delete - 2\n",
    "print(\"Is there node with the value of 4?\")\n",
    "node = myTree.search(4)\n",
    "if node == None:\n",
    "    print(node)\n",
    "else:\n",
    "    print(node, node.val)"
   ]
  },
  {
   "cell_type": "code",
   "execution_count": 17,
   "id": "9b91ccd9",
   "metadata": {},
   "outputs": [
    {
     "name": "stdout",
     "output_type": "stream",
     "text": [
      "Is there node with the value of 3?\n",
      "<__main__.TreeNode object at 0x000001C24A163CD0> 3\n"
     ]
    }
   ],
   "source": [
    "# Test delete - 3\n",
    "print(\"Is there node with the value of 3?\")\n",
    "node = myTree.search(3)\n",
    "if node == None:\n",
    "    print(node)\n",
    "else:\n",
    "    print(node, node.val)"
   ]
  },
  {
   "cell_type": "code",
   "execution_count": 18,
   "id": "636b9a16",
   "metadata": {},
   "outputs": [
    {
     "name": "stdout",
     "output_type": "stream",
     "text": [
      "2\n",
      "6\n"
     ]
    }
   ],
   "source": [
    "# Test delete - 4\n",
    "print(myTree.root.left.val)\n",
    "print(myTree.root.right.val)"
   ]
  },
  {
   "cell_type": "markdown",
   "id": "e1d88dc3",
   "metadata": {},
   "source": [
    "# In-class Exercise"
   ]
  },
  {
   "cell_type": "markdown",
   "id": "8cd0fa28",
   "metadata": {},
   "source": [
    "### Q2. Sum of subtree in BST"
   ]
  },
  {
   "attachments": {
    "EA1AE494-358F-467E-9B6C-E80F0C07898E_4_5005_c.jpeg": {
     "image/jpeg": "[encoded data removed]"
    }
   },
   "cell_type": "markdown",
   "id": "63d7628e",
   "metadata": {},
   "source": [
    "Complete a function that returns sum of all the BST node values within the range [low, high]\n",
    "- Each node of BST is defined by TreeNode class, which is defined in BST_Helper.py file. printTree() Method returns a list of all nodes in the tree.\n",
    "- Input: Root Node of BST, low, high\n",
    "- Each node values are unique in the BST.\n",
    "- To test if your function is correct, use create_linked_bst function defined in BST_Helper.py file. It creates a BST with an input of integer list, and returns the root node. The input list has to be in a certain sequence: first element is the value of the root node, second is the value of left node of the root, third is the value of right node of the root, ... Also, if there is no node input None. For example, create_linked_bst([10,5,15,3,7,None,18]) creates below BST and returns the root node.\n",
    "![EA1AE494-358F-467E-9B6C-E80F0C07898E_4_5005_c.jpeg](attachment:EA1AE494-358F-467E-9B6C-E80F0C07898E_4_5005_c.jpeg)"
   ]
  },
  {
   "attachments": {
    "C48297E2-80FA-4835-985D-74E0E7C80E99_4_5005_c.jpeg": {
     "image/jpeg": "[encoded data removed]"
    }
   },
   "cell_type": "markdown",
   "id": "5071b983",
   "metadata": {},
   "source": [
    "- You should not use the method of summing up the values in a list, without using the characteristic of BST. To prevent this, the input may be given to you in a way that the condition of BST child is violated. Originally, current node's left value has to be smaller than current value, while the right value has to be bigger than current value. Here, we do not apply this rule to grand children. For example, BST below may be given to you. 9 is smaller than 10 but it is located at the right subtree of node with value 9. Refer to example 1 and 2 for the calculation of these kind of BSTs.\n",
    "![C48297E2-80FA-4835-985D-74E0E7C80E99_4_5005_c.jpeg](attachment:C48297E2-80FA-4835-985D-74E0E7C80E99_4_5005_c.jpeg)"
   ]
  },
  {
   "cell_type": "markdown",
   "id": "2c803dfa",
   "metadata": {},
   "source": [
    "Ex1) root = create_linked_bst([10,5,15,3,7, 9, 18]); P1(root, 3, 9)\n",
    "- output: 15\n",
    "- explanation: 3,5,7 is within the range, so it returns the sum of 15. Numerically, 9 is within the range too, but when we search BST, 9 is the maximum value within the range, thus we only scan through the left subtree of the root."
   ]
  },
  {
   "cell_type": "markdown",
   "id": "41aef6e3",
   "metadata": {},
   "source": [
    "Ex2) root = create_linked_bst([10,5,15,3,7, 9, 18]); P1(root, 3, 15)\n",
    "- output: 49\n",
    "- explanation: 3, 5, 7, 9, 10, 15 is within the range, so it returns the sum of 49. The maximum value within the range is 15 and it's bigger than the root node value. Thus, we should search both left and right subtrees, and 9 should be included in the sum."
   ]
  },
  {
   "attachments": {},
   "cell_type": "markdown",
   "id": "88c44de2",
   "metadata": {},
   "source": [
    "Ex3) root = create_linked_bst ([10,5,15,3,7,13,18,1,None,6]); P1(root, 6, 10)\n",
    "- output: 23\n",
    "- explanation: 6, 7, 10 is within the range, so it should return the sum of 23."
   ]
  },
  {
   "cell_type": "markdown",
   "id": "378deec1",
   "metadata": {},
   "source": [
    "#### Solution"
   ]
  },
  {
   "cell_type": "code",
   "execution_count": 10,
   "id": "66e320c7",
   "metadata": {},
   "outputs": [
    {
     "ename": "ModuleNotFoundError",
     "evalue": "No module named 'BST_Helper'",
     "output_type": "error",
     "traceback": [
      "\u001b[1;31m---------------------------------------------------------------------------\u001b[0m",
      "\u001b[1;31mModuleNotFoundError\u001b[0m                       Traceback (most recent call last)",
      "Cell \u001b[1;32mIn[10], line 1\u001b[0m\n\u001b[1;32m----> 1\u001b[0m \u001b[39mimport\u001b[39;00m \u001b[39mBST_Helper\u001b[39;00m\n\u001b[0;32m      2\u001b[0m \u001b[39mfrom\u001b[39;00m \u001b[39mBST_Helper\u001b[39;00m \u001b[39mimport\u001b[39;00m \u001b[39m*\u001b[39m\n",
      "\u001b[1;31mModuleNotFoundError\u001b[0m: No module named 'BST_Helper'"
     ]
    }
   ],
   "source": [
    "import BST_Helper\n",
    "from BST_Helper import *"
   ]
  },
  {
   "cell_type": "code",
   "execution_count": null,
   "id": "78c884c3",
   "metadata": {},
   "outputs": [
    {
     "ename": "",
     "evalue": "",
     "output_type": "error",
     "traceback": [
      "\u001b[1;31mRunning cells with '.venv' requires the ipykernel package.\n",
      "\u001b[1;31mRun the following command to install 'ipykernel' into the Python environment. \n",
      "\u001b[1;31mCommand: '\"c:/Users/kctco/OneDrive - SNU/문서/Code/CFDS/.venv/Scripts/python.exe\" -m pip install ipykernel -U --force-reinstall'"
     ]
    }
   ],
   "source": [
    "def P1(root: TreeNode, low: int, high: int) -> int:\n",
    "\n",
    "    \n",
    "    return ans"
   ]
  },
  {
   "cell_type": "code",
   "execution_count": null,
   "id": "8d26ec44",
   "metadata": {},
   "outputs": [
    {
     "ename": "",
     "evalue": "",
     "output_type": "error",
     "traceback": [
      "\u001b[1;31mRunning cells with '.venv' requires the ipykernel package.\n",
      "\u001b[1;31mRun the following command to install 'ipykernel' into the Python environment. \n",
      "\u001b[1;31mCommand: '\"c:/Users/kctco/OneDrive - SNU/문서/Code/CFDS/.venv/Scripts/python.exe\" -m pip install ipykernel -U --force-reinstall'"
     ]
    }
   ],
   "source": [
    "root = create_linked_bst([10,5,15,3,7, 9, 18])\n",
    "P1(root, 3, 9)"
   ]
  },
  {
   "cell_type": "code",
   "execution_count": null,
   "id": "a30b50c5",
   "metadata": {},
   "outputs": [
    {
     "ename": "",
     "evalue": "",
     "output_type": "error",
     "traceback": [
      "\u001b[1;31mRunning cells with '.venv' requires the ipykernel package.\n",
      "\u001b[1;31mRun the following command to install 'ipykernel' into the Python environment. \n",
      "\u001b[1;31mCommand: '\"c:/Users/kctco/OneDrive - SNU/문서/Code/CFDS/.venv/Scripts/python.exe\" -m pip install ipykernel -U --force-reinstall'"
     ]
    }
   ],
   "source": [
    "root = create_linked_bst([10,5,15,3,7, 9, 18])\n",
    "P1(root, 3, 15)"
   ]
  },
  {
   "cell_type": "code",
   "execution_count": null,
   "id": "cf5c61bd",
   "metadata": {},
   "outputs": [
    {
     "ename": "",
     "evalue": "",
     "output_type": "error",
     "traceback": [
      "\u001b[1;31mRunning cells with '.venv' requires the ipykernel package.\n",
      "\u001b[1;31mRun the following command to install 'ipykernel' into the Python environment. \n",
      "\u001b[1;31mCommand: '\"c:/Users/kctco/OneDrive - SNU/문서/Code/CFDS/.venv/Scripts/python.exe\" -m pip install ipykernel -U --force-reinstall'"
     ]
    }
   ],
   "source": [
    "root = create_linked_bst ([10,5,15,3,7,13,18,1,None,6])\n",
    "P1(root, 6, 10)"
   ]
  },
  {
   "cell_type": "code",
   "execution_count": null,
   "id": "2a573b48",
   "metadata": {},
   "outputs": [
    {
     "ename": "",
     "evalue": "",
     "output_type": "error",
     "traceback": [
      "\u001b[1;31mRunning cells with '.venv' requires the ipykernel package.\n",
      "\u001b[1;31mRun the following command to install 'ipykernel' into the Python environment. \n",
      "\u001b[1;31mCommand: '\"c:/Users/kctco/OneDrive - SNU/문서/Code/CFDS/.venv/Scripts/python.exe\" -m pip install ipykernel -U --force-reinstall'"
     ]
    }
   ],
   "source": []
  }
 ],
 "metadata": {
  "kernelspec": {
   "display_name": "Python 3 (ipykernel)",
   "language": "python",
   "name": "python3"
  },
  "language_info": {
   "codemirror_mode": {
    "name": "ipython",
    "version": 3
   },
   "file_extension": ".py",
   "mimetype": "text/x-python",
   "name": "python",
   "nbconvert_exporter": "python",
   "pygments_lexer": "ipython3",
   "version": "3.10.10"
  }
 },
 "nbformat": 4,
 "nbformat_minor": 5
}
