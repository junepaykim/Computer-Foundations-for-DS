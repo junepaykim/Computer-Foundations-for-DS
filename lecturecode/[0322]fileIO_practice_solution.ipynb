{
 "cells": [
  {
   "cell_type": "markdown",
   "metadata": {},
   "source": [
    "# Practice 1 - Cafe menu"
   ]
  },
  {
   "cell_type": "markdown",
   "metadata": {},
   "source": [
    "### 1) Output: list of lists"
   ]
  },
  {
   "cell_type": "code",
   "execution_count": 187,
   "metadata": {},
   "outputs": [],
   "source": [
    "from typing import TextIO, List\n",
    "def menu(filename : TextIO) -> List[List]:\n",
    "    ##### Write your Code Here #####\n",
    "    # make an output list\n",
    "    out_list = []\n",
    "    # 1) open the file\n",
    "    with open(filename, 'r') as f:\n",
    "        line = f.readline()\n",
    "        # 2) Process each line\n",
    "        while line:\n",
    "            # 2-1) split\n",
    "            line = line.split()\n",
    "            out_list.append(line)\n",
    "            # 2-2) keep going down\n",
    "            line = f.readline()\n",
    "\n",
    "\n",
    "    return out_list\n",
    "    ##### End of your code #####\n",
    "    "
   ]
  },
  {
   "cell_type": "code",
   "execution_count": 188,
   "metadata": {},
   "outputs": [
    {
     "data": {
      "text/plain": [
       "[['Americano', '3.66', '4.11', '4.56'],\n",
       " ['CafeLatte', '4.11', '4.56', '5.00'],\n",
       " ['CafeMocha', '4.55', '5.00', '5.45'],\n",
       " ['DecafeCaffeLatte', '4.38', '4.82']]"
      ]
     },
     "execution_count": 188,
     "metadata": {},
     "output_type": "execute_result"
    }
   ],
   "source": [
    "menu('menu.txt')"
   ]
  },
  {
   "cell_type": "markdown",
   "metadata": {},
   "source": [
    "### 2) Output: list of strings in reverse order"
   ]
  },
  {
   "cell_type": "code",
   "execution_count": 215,
   "metadata": {},
   "outputs": [],
   "source": [
    "def reverse_menu(filename: TextIO) -> list:\n",
    "    ##### Write your Code Here #####        \n",
    "    # make an output list\n",
    "    reverse_list = []\n",
    "    # 1) open the file\n",
    "    with open(filename,'r') as file:\n",
    "        lines = file.readlines()\n",
    "        # 2) Process each line\n",
    "        for i in range(len(lines)-1,-1,-1): \n",
    "            reverse_list.append(lines[i].strip())\n",
    "        # for i in reversed(lines):\n",
    "        #     reverse_list.append(i.strip())\n",
    "        \n",
    "    return reverse_list\n",
    "    ##### End of your code #####"
   ]
  },
  {
   "cell_type": "code",
   "execution_count": 216,
   "metadata": {},
   "outputs": [
    {
     "data": {
      "text/plain": [
       "['DecafeCaffeLatte 4.38 4.82',\n",
       " 'CafeMocha 4.55 5.00 5.45',\n",
       " 'CafeLatte 4.11 4.56 5.00',\n",
       " 'Americano 3.66 4.11 4.56']"
      ]
     },
     "execution_count": 216,
     "metadata": {},
     "output_type": "execute_result"
    }
   ],
   "source": [
    "reverse_menu('menu.txt')"
   ]
  },
  {
   "cell_type": "markdown",
   "metadata": {},
   "source": [
    "# Practice 2 - Find The largest number"
   ]
  },
  {
   "cell_type": "code",
   "execution_count": 208,
   "metadata": {},
   "outputs": [
    {
     "data": {
      "text/plain": [
       "6721"
      ]
     },
     "execution_count": 208,
     "metadata": {},
     "output_type": "execute_result"
    }
   ],
   "source": [
    "# solution 1\n",
    "from typing import TextIO\n",
    "\n",
    "def find_largest_number(filename : TextIO) -> int:\n",
    "    max_num = 0 #Initialization\n",
    "    \n",
    "    with open(filename, \"r\") as file:\n",
    "        line = file.readline()\n",
    "        #process each line\n",
    "        while line:\n",
    "            if not line.startswith('#'): #Filter comments\n",
    "                valid_line = line.split('#')[0].strip() #filter comments again\n",
    "                numStrings = valid_line.split('.') # split string and insert into a list\n",
    "                for numString in numStrings:\n",
    "                    if numString : #Filter empty string\n",
    "                        num = int(numString.strip()) #convert str into number\n",
    "                        if max_num < num: \n",
    "                            max_num = num #update max_num\n",
    "                \n",
    "            line = file.readline() #read nextline\n",
    "    return max_num\n",
    "\n",
    "find_largest_number(\"file_practice.txt\")\n"
   ]
  },
  {
   "cell_type": "code",
   "execution_count": 124,
   "metadata": {},
   "outputs": [
    {
     "data": {
      "text/plain": [
       "6721"
      ]
     },
     "execution_count": 124,
     "metadata": {},
     "output_type": "execute_result"
    }
   ],
   "source": [
    "# solution 2\n",
    "from typing import List\n",
    "def find_largest_number(filename : TextIO) -> int :\n",
    "    # Initialization\n",
    "    nums = []\n",
    "    with open(filename) as file:\n",
    "        line = file.readline()\n",
    "        # Process each line\n",
    "        while line:\n",
    "            # 1) skip headers\n",
    "            if line.startswith(\"#\"):\n",
    "                line = file.readline()\n",
    "                continue\n",
    "            line = line.split() # split the line into a list\n",
    "            for i in range(len(line)):\n",
    "                # 2) skip annotation\n",
    "                if line[i] == '#':\n",
    "                    break\n",
    "                # 3) find numbers\n",
    "                if line[i].endswith('.'): # same with if line[i][-1] == '.'\n",
    "                    line[i] = line[i][:-1]\n",
    "                    nums.append(int(line[i]))\n",
    "            line = file.readline()\n",
    "    return max(nums)\n",
    "\n",
    "find_largest_number('file_practice.txt')"
   ]
  },
  {
   "cell_type": "code",
   "execution_count": null,
   "metadata": {},
   "outputs": [],
   "source": []
  }
 ],
 "metadata": {
  "kernelspec": {
   "display_name": "Python 3.10.5 64-bit",
   "language": "python",
   "name": "python3"
  },
  "language_info": {
   "codemirror_mode": {
    "name": "ipython",
    "version": 3
   },
   "file_extension": ".py",
   "mimetype": "text/x-python",
   "name": "python",
   "nbconvert_exporter": "python",
   "pygments_lexer": "ipython3",
   "version": "3.10.5"
  },
  "orig_nbformat": 4,
  "vscode": {
   "interpreter": {
    "hash": "aee8b7b246df8f9039afb4144a1f6fd8d2ca17a180786b69acc140d282b71a49"
   }
  }
 },
 "nbformat": 4,
 "nbformat_minor": 2
}
