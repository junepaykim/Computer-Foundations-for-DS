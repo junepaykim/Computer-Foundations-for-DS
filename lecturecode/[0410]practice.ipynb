{
 "cells": [
  {
   "cell_type": "markdown",
   "metadata": {},
   "source": [
    "## Practice1"
   ]
  },
  {
   "cell_type": "markdown",
   "metadata": {},
   "source": [
    "#### Write a function that takes a set of words as arguments and returns True if the \"Changed word\" matches any word in the set of words, False otherwise.\n"
   ]
  },
  {
   "cell_type": "markdown",
   "metadata": {},
   "source": [
    "\n",
    "Conditions \n",
    "- All words consist of lowercase alphabets without spaces. \n",
    "- Only one character of the \"Query word\" can be changed. \n",
    "- Deletion is not allowed when changing the character.\n"
   ]
  },
  {
   "cell_type": "code",
   "execution_count": 10,
   "metadata": {},
   "outputs": [],
   "source": [
    "def change_word(words: set, query_word: str) -> bool:\n",
    "    for word in words:\n",
    "        count = len(word)\n",
    "        if count == len(query_word):\n",
    "            for i in range(len(word)):\n",
    "                if word[i] != query_word[i]:\n",
    "                    count -= 1\n",
    "        if count == len(word) - 1:\n",
    "            return True\n",
    "    return False\n",
    "\n",
    "\n",
    "def change_word2(words: set, query_word: str) -> bool:\n",
    "    for word in words:\n",
    "        if len(word) != len(query_word):\n",
    "            continue\n",
    "\n",
    "        count = 0\n",
    "        for i in range(len(word)):\n",
    "            if word[i] != query_word[i]:\n",
    "                count += 1\n",
    "\n",
    "        if count == 1:\n",
    "            ret = True\n",
    "\n",
    "    return ret\n"
   ]
  },
  {
   "cell_type": "code",
   "execution_count": 11,
   "metadata": {},
   "outputs": [
    {
     "data": {
      "text/plain": [
       "False"
      ]
     },
     "execution_count": 11,
     "metadata": {},
     "output_type": "execute_result"
    }
   ],
   "source": [
    "change_word({\"data\", \"science\"}, \"data\")\n"
   ]
  },
  {
   "cell_type": "code",
   "execution_count": 12,
   "metadata": {},
   "outputs": [
    {
     "data": {
      "text/plain": [
       "True"
      ]
     },
     "execution_count": 12,
     "metadata": {},
     "output_type": "execute_result"
    }
   ],
   "source": [
    "change_word({\"data\", \"science\"}, \"daaa\")\n"
   ]
  },
  {
   "cell_type": "code",
   "execution_count": 13,
   "metadata": {},
   "outputs": [
    {
     "data": {
      "text/plain": [
       "True"
      ]
     },
     "execution_count": 13,
     "metadata": {},
     "output_type": "execute_result"
    }
   ],
   "source": [
    "change_word({\"data\", \"science\", \"scienze\"}, \"scienzz\")\n"
   ]
  },
  {
   "cell_type": "markdown",
   "metadata": {},
   "source": [
    "## (EXTRA) Practice 2"
   ]
  },
  {
   "cell_type": "markdown",
   "metadata": {},
   "source": [
    "#### Write a function that takes a dictionary as an argument and returns a list of values that appear two or more times.\n"
   ]
  },
  {
   "cell_type": "markdown",
   "metadata": {},
   "source": [
    "\n",
    "Conditions\n",
    "- The order of elements returned in the list does not matter.\n",
    "- The issue of treating 1 and True as the same is not considered."
   ]
  },
  {
   "cell_type": "code",
   "execution_count": 2,
   "metadata": {},
   "outputs": [],
   "source": [
    "def find_dup(dct: dict) -> list:\n",
    "    ### Write code here ###\n",
    "\n",
    "\n",
    "\n",
    "    ### End of your code ###  \n",
    "    pass   "
   ]
  },
  {
   "cell_type": "code",
   "execution_count": 41,
   "metadata": {},
   "outputs": [
    {
     "data": {
      "text/plain": [
       "[1]"
      ]
     },
     "execution_count": 41,
     "metadata": {},
     "output_type": "execute_result"
    }
   ],
   "source": [
    "find_dup({'red': 1, 'green': 1, 'blue': 2})"
   ]
  },
  {
   "cell_type": "code",
   "execution_count": 42,
   "metadata": {},
   "outputs": [
    {
     "data": {
      "text/plain": [
       "[True, 2]"
      ]
     },
     "execution_count": 42,
     "metadata": {},
     "output_type": "execute_result"
    }
   ],
   "source": [
    "find_dup({'a': True, 'b': True, 'c': 2, 'd': 2, 'e': 2})"
   ]
  },
  {
   "cell_type": "code",
   "execution_count": null,
   "metadata": {},
   "outputs": [],
   "source": []
  }
 ],
 "metadata": {
  "kernelspec": {
   "display_name": "Python 3.10.5 64-bit",
   "language": "python",
   "name": "python3"
  },
  "language_info": {
   "codemirror_mode": {
    "name": "ipython",
    "version": 3
   },
   "file_extension": ".py",
   "mimetype": "text/x-python",
   "name": "python",
   "nbconvert_exporter": "python",
   "pygments_lexer": "ipython3",
   "version": "3.10.10"
  },
  "orig_nbformat": 4,
  "vscode": {
   "interpreter": {
    "hash": "aee8b7b246df8f9039afb4144a1f6fd8d2ca17a180786b69acc140d282b71a49"
   }
  }
 },
 "nbformat": 4,
 "nbformat_minor": 2
}
