{
 "cells": [
  {
   "cell_type": "markdown",
   "metadata": {},
   "source": [
    "# In-class Exercise"
   ]
  },
  {
   "cell_type": "markdown",
   "metadata": {},
   "source": [
    "## Q1. Cartesian Plane"
   ]
  },
  {
   "cell_type": "markdown",
   "metadata": {},
   "source": [
    "Write two classes `Point` and `Line` that give the same output as below:\n",
    "```python\n",
    "line = Line(Point(1,1), Point(3,2)) # a line comprised of two 2D points\n",
    "line.slope() \n",
    "# 0.5\n",
    "line.length() \n",
    "# 2.23606797749979\n",
    "```"
   ]
  },
  {
   "cell_type": "code",
   "execution_count": 7,
   "metadata": {},
   "outputs": [],
   "source": [
    "import math\n",
    "import numpy as np\n",
    "\n",
    "\n",
    "class Point:\n",
    "    def __init__(self, x: int, y: int) -> None:\n",
    "        self.x = x\n",
    "        self.y = y\n",
    "\n",
    "    def getMatrix(self):\n",
    "        \"\"\"\n",
    "        Purpose: To get Location for Line\n",
    "        \"\"\"\n",
    "        return (self.x, self.y)\n"
   ]
  },
  {
   "cell_type": "code",
   "execution_count": 8,
   "metadata": {},
   "outputs": [],
   "source": [
    "class Line:\n",
    "    def __init__(self, FirstPoint: Point, SecondPoint: Point) -> None:\n",
    "        self.FirstPoint = FirstPoint\n",
    "        self.SecondPoint = SecondPoint\n",
    "\n",
    "    def length(self) -> float:\n",
    "        \"\"\"\n",
    "        Purpose: Line function\n",
    "        \"\"\"\n",
    "        f_x, f_y = self.FirstPoint.getMatrix()\n",
    "        s_x, s_y = self.SecondPoint.getMatrix()\n",
    "        d_x = f_x - s_x\n",
    "        d_y = f_y - s_y\n",
    "        length = math.sqrt(d_x**2 + d_y**2)\n",
    "\n",
    "        return length\n",
    "\n",
    "    def slope(self) -> float:\n",
    "        \"\"\"\n",
    "        Purpose: slope function\n",
    "        \"\"\"\n",
    "        f_x, f_y = self.FirstPoint.getMatrix()\n",
    "        s_x, s_y = self.SecondPoint.getMatrix()\n",
    "        \n",
    "        slope = (s_y - f_y) / (s_x - f_x)\n",
    "        \n",
    "        if f_x == s_x :\n",
    "            return np.inf\n",
    "        else :\n",
    "            return slope\n"
   ]
  },
  {
   "cell_type": "code",
   "execution_count": 9,
   "metadata": {},
   "outputs": [],
   "source": [
    "line = Line(Point(1,1), Point(3,2))\n"
   ]
  },
  {
   "cell_type": "code",
   "execution_count": 10,
   "metadata": {},
   "outputs": [
    {
     "data": {
      "text/plain": [
       "0.5"
      ]
     },
     "execution_count": 10,
     "metadata": {},
     "output_type": "execute_result"
    }
   ],
   "source": [
    "line.slope()"
   ]
  },
  {
   "cell_type": "code",
   "execution_count": 11,
   "metadata": {},
   "outputs": [
    {
     "data": {
      "text/plain": [
       "2.23606797749979"
      ]
     },
     "execution_count": 11,
     "metadata": {},
     "output_type": "execute_result"
    }
   ],
   "source": [
    "line.length()"
   ]
  },
  {
   "cell_type": "markdown",
   "metadata": {},
   "source": [
    "## Q2. Inheritance"
   ]
  },
  {
   "cell_type": "markdown",
   "metadata": {},
   "source": [
    "Write `Member` class and inherit this class to `Student` class and `Faculty` class."
   ]
  },
  {
   "cell_type": "markdown",
   "metadata": {},
   "source": [
    "Member $\\rightarrow$ name + address + email + DoB + affiliation + infoList"
   ]
  },
  {
   "cell_type": "code",
   "execution_count": 14,
   "metadata": {},
   "outputs": [],
   "source": [
    "class Member:\n",
    "    def __init__(self, name: str, address: str, email: str, DoB : str, affiliation: str) -> None:\n",
    "        self.name = name\n",
    "        self.address = address\n",
    "        self.email = email\n",
    "        self.DoB = DoB\n",
    "        self.affiliation = affiliation\n",
    "   \n",
    "    def printInfo(self) -> None:\n",
    "        pass\n",
    "\n",
    "    def switch_affiliation(self, new_affiliation: str) -> None:\n",
    "        pass\n",
    "    "
   ]
  },
  {
   "cell_type": "markdown",
   "metadata": {},
   "source": [
    "Student $\\rightarrow$ Member + student_num + advisor + courses_taken + GPA + infoList addition"
   ]
  },
  {
   "cell_type": "code",
   "execution_count": 15,
   "metadata": {},
   "outputs": [],
   "source": [
    "class Student(Member):\n",
    "    def __init__(self, name: str, address: str, email: str, DoB: str, affiliation: str, student_num: str) -> None:\n",
    "        super().__init__(name, address, email, DoB, affiliation)\n",
    "        self.student_num = student_num\n",
    "        \n",
    "    \n",
    "    def switch_affiliation(self, new_affiliation: str) -> None:\n",
    "        pass"
   ]
  },
  {
   "cell_type": "markdown",
   "metadata": {},
   "source": [
    "Faculty $\\rightarrow$ Member + faculty_num + advisees + courses_teaching + infoList addition"
   ]
  },
  {
   "cell_type": "code",
   "execution_count": 25,
   "metadata": {},
   "outputs": [],
   "source": [
    "class Faculty(Member):\n",
    "    def __init__(\n",
    "        self,\n",
    "        name: str,\n",
    "        address: str,\n",
    "        email: str,\n",
    "        DoB: str,\n",
    "        affiliation: str,\n",
    "        faculty_num: str,\n",
    "    ) -> None:\n",
    "        super().__init__(name, address, email, DoB, affiliation)\n",
    "        self.faculty_num = faculty_num\n",
    "        self.courses = []\n",
    "        self.students = []\n",
    "\n",
    "    def switch_affiliation(self, new_affiliation: str) -> None:\n",
    "        self.affiliation = new_affiliation\n",
    "\n",
    "    def get_student(self, advisee: Student) -> None:\n",
    "        self.students.append(advisee)\n",
    "        #advisee.advisior = self\n",
    "        print(f\"{advisee.name} enters the {self.name}'s Lab\")\n",
    "\n",
    "    def takeOnCourse(self, course_name: str, year: int):\n",
    "        \"\"\"\n",
    "        Purpose: Professor's course taken\n",
    "        \"\"\"\n",
    "        self.courses.append((course_name, year))\n",
    "\n",
    "    def resume(self):\n",
    "        \"\"\"\n",
    "        Purpose: print resume\n",
    "        \"\"\"\n",
    "        for courses in self.courses:\n",
    "            course_name, year = courses\n",
    "            print(f\"Prof.{self.name} took on  {course_name} at {year}\")\n",
    "\n",
    "    # end def\n"
   ]
  },
  {
   "cell_type": "code",
   "execution_count": 26,
   "metadata": {},
   "outputs": [],
   "source": [
    "hyunwooPark = Faculty(\"Hyun-Woo Park\", \"942-417\", \"hyunwoopark@snu.ac.kr\", \"901008\", \"Data Science\", \"A12345678\")"
   ]
  },
  {
   "cell_type": "code",
   "execution_count": 27,
   "metadata": {},
   "outputs": [],
   "source": [
    "hyunwooPark.takeOnCourse(\"CFDS0\", 2023)\n",
    "hyunwooPark.takeOnCourse(\"Data Visualization\", 2023)\n",
    "hyunwooPark.takeOnCourse(\"Data Visualization\", 2022)"
   ]
  },
  {
   "cell_type": "code",
   "execution_count": 28,
   "metadata": {},
   "outputs": [
    {
     "name": "stdout",
     "output_type": "stream",
     "text": [
      "Prof.Hyun-Woo Park took on  CFDS0 at 2023\n",
      "Prof.Hyun-Woo Park took on  Data Visualization at 2023\n",
      "Prof.Hyun-Woo Park took on  Data Visualization at 2022\n"
     ]
    }
   ],
   "source": [
    "hyunwooPark.resume()"
   ]
  },
  {
   "cell_type": "code",
   "execution_count": 29,
   "metadata": {},
   "outputs": [],
   "source": [
    "SangwooHeo = Student(\"Sang-woo Heo\", \"942-414\", \"hsw@snu.ac.kr\", \"900101\", \"Data Science\", \"2022-12345\")"
   ]
  },
  {
   "cell_type": "code",
   "execution_count": 30,
   "metadata": {},
   "outputs": [
    {
     "name": "stdout",
     "output_type": "stream",
     "text": [
      "Sang-woo Heo enters the Hyun-Woo Park's Lab\n"
     ]
    }
   ],
   "source": [
    "hyunwooPark.get_student(SangwooHeo)"
   ]
  },
  {
   "cell_type": "markdown",
   "metadata": {},
   "source": [
    "## Q3-1. Country"
   ]
  },
  {
   "cell_type": "markdown",
   "metadata": {},
   "source": [
    "Write class `Country`."
   ]
  },
  {
   "cell_type": "markdown",
   "metadata": {},
   "source": [
    "- a. By using `__init__` method, make class `Country` that takes `name`, `population`, `area` as parameters. The example looks like below. <br>\n",
    "  ```python\n",
    "  canada = Country(\"Canada\", 34482779, 9984670)\n",
    "  canada.name \n",
    "  # 34482779\n",
    "  canada.area \n",
    "  # 9984670\n",
    "  ```"
   ]
  },
  {
   "cell_type": "markdown",
   "metadata": {},
   "source": [
    "- b. define `is_larger` method.\n",
    "  - `is_lager` : a method that returns `True` only when the first country has a larger area than the second country. (Return `False` if area is the same)\n",
    "  - The example looks like below <br>\n",
    "    ```python\n",
    "    usa = Country(\"United State of America\", 313914040, 9826675)\n",
    "    canada.is_larger(usa) \n",
    "    # True\n",
    "    ```"
   ]
  },
  {
   "attachments": {},
   "cell_type": "markdown",
   "metadata": {},
   "source": [
    "- c. define `population_density` method.\n",
    "  - `population_density` : a method that returns the population density (number of people per area) of a country. (There is no case where the area is zero.)\n",
    "  - The example looks like below <br>\n",
    "    ```python\n",
    "    canada.population_density() \n",
    "    # 3.4535722262227995\n",
    "    ```"
   ]
  },
  {
   "cell_type": "code",
   "execution_count": 32,
   "metadata": {},
   "outputs": [],
   "source": [
    "# Do not edit this code!\n",
    "# This code help Country class recognize itself\n",
    "from __future__ import annotations"
   ]
  },
  {
   "cell_type": "code",
   "execution_count": 33,
   "metadata": {},
   "outputs": [],
   "source": [
    "class Country:\n",
    "    def __init__(self, name: str, population: int, area: int) -> None:\n",
    "        self.name = name\n",
    "        self.population = population\n",
    "        self.area = area\n",
    "\n",
    "    def is_larger(self, compare: Country) -> bool:\n",
    "        return self.area > compare.area\n",
    "\n",
    "    def population_density(self) -> float:\n",
    "        return self.population / self.area\n"
   ]
  },
  {
   "cell_type": "code",
   "execution_count": 34,
   "metadata": {},
   "outputs": [
    {
     "name": "stdout",
     "output_type": "stream",
     "text": [
      "Canada\n",
      "9984670\n"
     ]
    }
   ],
   "source": [
    "canada = Country(\"Canada\", 34482779, 9984670)\n",
    "print(canada.name) \n",
    "print(canada.area)"
   ]
  },
  {
   "cell_type": "code",
   "execution_count": 35,
   "metadata": {},
   "outputs": [
    {
     "data": {
      "text/plain": [
       "True"
      ]
     },
     "execution_count": 35,
     "metadata": {},
     "output_type": "execute_result"
    }
   ],
   "source": [
    "usa = Country(\"United State of America\", 313914040, 9826675)\n",
    "canada.is_larger(usa) "
   ]
  },
  {
   "cell_type": "code",
   "execution_count": 36,
   "metadata": {},
   "outputs": [
    {
     "data": {
      "text/plain": [
       "3.4535722262227995"
      ]
     },
     "execution_count": 36,
     "metadata": {},
     "output_type": "execute_result"
    }
   ],
   "source": [
    "canada.population_density() "
   ]
  },
  {
   "cell_type": "markdown",
   "metadata": {},
   "source": [
    "## Q3-2. Continent"
   ]
  },
  {
   "cell_type": "markdown",
   "metadata": {},
   "source": [
    "Write `Continent` class that takes `name` and `Countries` as parameters.<br>\n",
    "(Country class is same one which you've just implemented at Q3-1)"
   ]
  },
  {
   "cell_type": "markdown",
   "metadata": {},
   "source": [
    "- a. By using `__init__` method, make class `Continent` that takes `name`, `countries` as parameters.\n",
    "  - `Countries` is a list of `Country` objects.\n",
    "  - `Countries` at least has more than one element.\n",
    "  - The example looks like below. <br>\n",
    "    ```python\n",
    "    canada = Country('Canada', 34482779, 9984670)\n",
    "    usa = Country('United States of America', 313914040, 9826675)\n",
    "    mexico = Country('Mexico', 112336538, 1943950)\n",
    "    countries = [canada, usa, mexico]\n",
    "    north_america = Continent('North America', countries)\n",
    "    north_america.name \n",
    "    # North America\n",
    "    ```"
   ]
  },
  {
   "attachments": {},
   "cell_type": "markdown",
   "metadata": {},
   "source": [
    "- b. define `total_population` method.\n",
    "  - `total_population method` : a method that returns the sum of the population of countries belonging to the continent\n",
    "  - The example looks like below <br>\n",
    "    ```python\n",
    "    north_america.total_population() \n",
    "    # 460733357\n",
    "    ```"
   ]
  },
  {
   "cell_type": "code",
   "execution_count": 37,
   "metadata": {},
   "outputs": [],
   "source": [
    "class Continent:\n",
    "    def __init__(self, name: str, countries: list[Country]) -> None:\n",
    "        self.name = name\n",
    "        self.countries = countries\n",
    "\n",
    "    def total_population(self) -> int:\n",
    "        answer = 0\n",
    "        for country in self.countries :\n",
    "            answer = answer + country.population\n",
    "        return answer\n",
    "        "
   ]
  },
  {
   "cell_type": "code",
   "execution_count": 38,
   "metadata": {},
   "outputs": [
    {
     "data": {
      "text/plain": [
       "'North America'"
      ]
     },
     "execution_count": 38,
     "metadata": {},
     "output_type": "execute_result"
    }
   ],
   "source": [
    "canada = Country('Canada', 34482779, 9984670)\n",
    "usa = Country('United States of America', 313914040, 9826675)\n",
    "mexico = Country('Mexico', 112336538, 1943950)\n",
    "countries = [canada, usa, mexico]\n",
    "north_america = Continent('North America', countries)\n",
    "north_america.name"
   ]
  },
  {
   "cell_type": "code",
   "execution_count": 39,
   "metadata": {},
   "outputs": [
    {
     "data": {
      "text/plain": [
       "460733357"
      ]
     },
     "execution_count": 39,
     "metadata": {},
     "output_type": "execute_result"
    }
   ],
   "source": [
    "north_america.total_population()"
   ]
  },
  {
   "cell_type": "code",
   "execution_count": null,
   "metadata": {},
   "outputs": [],
   "source": []
  }
 ],
 "metadata": {
  "kernelspec": {
   "display_name": "Python 3.10.5 64-bit",
   "language": "python",
   "name": "python3"
  },
  "language_info": {
   "codemirror_mode": {
    "name": "ipython",
    "version": 3
   },
   "file_extension": ".py",
   "mimetype": "text/x-python",
   "name": "python",
   "nbconvert_exporter": "python",
   "pygments_lexer": "ipython3",
   "version": "3.10.10"
  },
  "orig_nbformat": 4,
  "vscode": {
   "interpreter": {
    "hash": "aee8b7b246df8f9039afb4144a1f6fd8d2ca17a180786b69acc140d282b71a49"
   }
  }
 },
 "nbformat": 4,
 "nbformat_minor": 2
}
