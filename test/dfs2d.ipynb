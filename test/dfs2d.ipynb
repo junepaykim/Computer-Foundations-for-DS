{
 "cells": [
  {
   "cell_type": "code",
   "execution_count": 1,
   "metadata": {},
   "outputs": [],
   "source": [
    "def dfs_2d_array(arr, target):\n",
    "    \"\"\"\n",
    "    주어진 이차원 배열에서 target 값을 DFS로 찾아 반환합니다.\n",
    "    \"\"\"\n",
    "    visited = set() # 방문한 인덱스를 저장할 집합을 초기화합니다.\n",
    "    \n",
    "    def dfs_helper(row, col):\n",
    "        \"\"\"\n",
    "        주어진 인덱스에서 시작하는 DFS를 수행합니다.\n",
    "        \"\"\"\n",
    "        if (row, col) in visited or row < 0 or row >= len(arr) or col < 0 or col >= len(arr[0]):\n",
    "            # 이미 방문한 인덱스인 경우 또는 인덱스가 범위를 벗어난 경우 종료합니다.\n",
    "            return False\n",
    "        visited.add((row, col)) # 현재 인덱스를 방문한 집합에 추가합니다.\n",
    "        \n",
    "        if arr[row][col] == target: # target 값을 찾은 경우, True를 반환합니다.\n",
    "            return True\n",
    "        \n",
    "        # 인접한 인덱스에 대해 DFS를 재귀적으로 호출합니다.\n",
    "        for dr, dc in [(-1, 0), (1, 0), (0, -1), (0, 1)]:\n",
    "            if dfs_helper(row+dr, col+dc):\n",
    "                return True\n",
    "        \n",
    "        visited.remove((row, col)) # 현재 인덱스를 방문한 집합에서 제거합니다.\n",
    "        return False\n",
    "    \n",
    "    # (0, 0) 인덱스에서 DFS 탐색을 시작합니다.\n",
    "    return dfs_helper(0, 0)"
   ]
  },
  {
   "cell_type": "code",
   "execution_count": 2,
   "metadata": {},
   "outputs": [
    {
     "data": {
      "text/plain": [
       "True"
      ]
     },
     "execution_count": 2,
     "metadata": {},
     "output_type": "execute_result"
    }
   ],
   "source": [
    "myArray = [[0,0,0], [1,2,3]]\n",
    "dfs_2d_array(myArray, 3)"
   ]
  },
  {
   "cell_type": "code",
   "execution_count": null,
   "metadata": {},
   "outputs": [],
   "source": []
  }
 ],
 "metadata": {
  "kernelspec": {
   "display_name": ".venv",
   "language": "python",
   "name": "python3"
  },
  "language_info": {
   "codemirror_mode": {
    "name": "ipython",
    "version": 3
   },
   "file_extension": ".py",
   "mimetype": "text/x-python",
   "name": "python",
   "nbconvert_exporter": "python",
   "pygments_lexer": "ipython3",
   "version": "3.10.10"
  },
  "orig_nbformat": 4
 },
 "nbformat": 4,
 "nbformat_minor": 2
}
