{
 "cells": [
  {
   "cell_type": "markdown",
   "metadata": {},
   "source": [
    "# 04.05.23 (Wed) Single Linked List"
   ]
  },
  {
   "cell_type": "markdown",
   "metadata": {},
   "source": [
    "# Stack"
   ]
  },
  {
   "cell_type": "markdown",
   "metadata": {},
   "source": [
    "push(x): Add a LinkedNode that has val x to myStack  \n",
    "pop: Remove the most recently added LinkedNode from myStack  \n",
    "top: Return val of the most recently added LinkedNode  \n",
    "getSize: Return the number of LinkedNodes in myStack  \n",
    "isEmpty: Return True if myStack is empty, or False otherwise."
   ]
  },
  {
   "cell_type": "code",
   "execution_count": 18,
   "metadata": {
    "tags": []
   },
   "outputs": [],
   "source": [
    "class LinkedNode():\n",
    "    def __init__(self,x):\n",
    "        self.val = x\n",
    "        self.next = None\n",
    "\n",
    "class myStack():\n",
    "    def __init__(self)->None:\n",
    "        self.sentinel = LinkedNode(0)\n",
    "        self.size = 0\n",
    "\n",
    "    def push(self, x:int)->None:\n",
    "        ##### Write your Code Here #####\n",
    "        newNode = LinkedNode(x)\n",
    "        newNode.next = self.sentinel.next\n",
    "        self.sentinel.next = newNode\n",
    "        self.size += 1\n",
    "        \n",
    "    def pop(self)->None:\n",
    "        ##### Write your Code Here #####\n",
    "        if not self.isEmpty():\n",
    "            tmp = self.sentinel.next\n",
    "            self.sentinel.next = self.sentinel.next.val\n",
    "            tmp.next = None\n",
    "            self.size -= 1\n",
    "            \n",
    "        \n",
    "    def top(self)->None:\n",
    "        ##### Write your Code Here #####\n",
    "        if not self.isEmpty():\n",
    "            return self.sentinel.next.val\n",
    "        \n",
    "    def getSize(self)->int:\n",
    "         ##### Write your Code Here #####\n",
    "        return self.size\n",
    "    def isEmpty(self)->bool:\n",
    "        ##### Write your Code Here #####\n",
    "        return self.size == 0\n"
   ]
  },
  {
   "cell_type": "code",
   "execution_count": 16,
   "metadata": {
    "tags": []
   },
   "outputs": [],
   "source": [
    "s = myStack()"
   ]
  },
  {
   "cell_type": "code",
   "execution_count": 17,
   "metadata": {
    "tags": []
   },
   "outputs": [
    {
     "name": "stdout",
     "output_type": "stream",
     "text": [
      "False 1 10\n",
      "True 0 None\n"
     ]
    }
   ],
   "source": [
    "s.push(10)\n",
    "print(s.isEmpty(), s.getSize(), s.top())\n",
    "s.pop()\n",
    "print(s.isEmpty(), s.getSize(), s.top())"
   ]
  },
  {
   "cell_type": "markdown",
   "metadata": {},
   "source": [
    "# Reversing SLL"
   ]
  },
  {
   "cell_type": "markdown",
   "metadata": {},
   "source": [
    "※ Space complexity should be O(1)  \n",
    "(Generating new LinkedLists or lists is not allowed)"
   ]
  },
  {
   "cell_type": "code",
   "execution_count": 3,
   "metadata": {},
   "outputs": [],
   "source": [
    "class ListNode:\n",
    "    def __init__(self, val=0, next=None):\n",
    "        self.val = val\n",
    "        self.next = next"
   ]
  },
  {
   "cell_type": "code",
   "execution_count": 10,
   "metadata": {},
   "outputs": [],
   "source": [
    "# converting list form into a singly linked list\n",
    "def create_linked_list(l: list) -> ListNode:\n",
    "    if len(l) == 0:\n",
    "        return None\n",
    "    \n",
    "    start = ListNode(l[0])\n",
    "    node = start\n",
    "    \n",
    "    for i in range(1, len(l)):\n",
    "        node_new = ListNode(l[i])\n",
    "        node.next = node_new\n",
    "        node = node_new\n",
    "    \n",
    "    return start\n",
    "\n",
    "# printing linked-list in form of a list\n",
    "def print_linked_list(n: ListNode, l: list) -> None:\n",
    "    if n is not None:\n",
    "        l.append(n.val)\n",
    "        print_linked_list(n.next, l)\n",
    "    else:\n",
    "        print(l)\n",
    "\n",
    "\n",
    "def reverse_SSL(head: ListNode) -> ListNode: \n",
    "    ##### Write your Code Here #####\n",
    "    counterNode = head\n",
    "    counter = 0\n",
    "    \n",
    "    while counterNode.next is not None :\n",
    "        counterNode = counterNode.next\n",
    "        counter += 1\n",
    "    \n",
    "    tempNode = ListNode()\n",
    "    \n",
    "    for i in range(counter, 0, -1) :\n",
    "        tempNode = head\n",
    "        for j in range (i) :\n",
    "            tempNode = tempNode.next\n",
    "        print(tempNode.val)\n",
    "    return \n",
    "     ##### Write your Code Here #####\n",
    "    new_head = None\n",
    "    current_node = head\n",
    "\n",
    "\n",
    "def reverse_SSL2(head: ListNode) -> ListNode: \n",
    "    new_head = None\n",
    "    current_node = head\n",
    "    while current_node is not None:\n",
    "        temp = current_node.next\n",
    "        current_node.next = new_head\n",
    "        new_head = current_node\n",
    "        current_node = temp\n",
    "        \n",
    "    return new_head\n"
   ]
  },
  {
   "cell_type": "code",
   "execution_count": 11,
   "metadata": {},
   "outputs": [
    {
     "name": "stdout",
     "output_type": "stream",
     "text": [
      "[3, 1, 2, 4]\n"
     ]
    }
   ],
   "source": [
    "l1 =  create_linked_list([4,2,1,3])\n",
    "print_linked_list(reverse_SSL2(l1),[])\n"
   ]
  },
  {
   "cell_type": "code",
   "execution_count": null,
   "metadata": {},
   "outputs": [],
   "source": []
  }
 ],
 "metadata": {
  "kernelspec": {
   "display_name": "Python 3 (ipykernel)",
   "language": "python",
   "name": "python3"
  },
  "language_info": {
   "codemirror_mode": {
    "name": "ipython",
    "version": 3
   },
   "file_extension": ".py",
   "mimetype": "text/x-python",
   "name": "python",
   "nbconvert_exporter": "python",
   "pygments_lexer": "ipython3",
   "version": "3.10.10"
  },
  "vscode": {
   "interpreter": {
    "hash": "e31f0f46eebab55a29f0e124b1401c6335879e1da13c450265b689861a18de2a"
   }
  }
 },
 "nbformat": 4,
 "nbformat_minor": 4
}
