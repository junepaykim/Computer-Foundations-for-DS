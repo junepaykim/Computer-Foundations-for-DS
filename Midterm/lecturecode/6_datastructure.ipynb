{
 "cells": [
  {
   "cell_type": "code",
   "execution_count": 1,
   "metadata": {},
   "outputs": [
    {
     "data": {
      "text/plain": [
       "dict"
      ]
     },
     "execution_count": 1,
     "metadata": {},
     "output_type": "execute_result"
    }
   ],
   "source": [
    "# sets\n",
    "vowels = {\"a\", \"e\", \"i\", \"o\", \"u\"}\n",
    "\n",
    "emptyset = set()  # Not {}!\n",
    "\n",
    "digits = set([0, 1, 2, 3, 4, 5])\n",
    "odds = set([1, 3, 5, 7, 9])\n",
    "digits.add(6)\n",
    "digits.remove(2)\n",
    "digits.clear()\n",
    "\n",
    "digits.issubset(odds)\n",
    "digits.issuperset(odds)\n",
    "\n",
    "myset = {}\n",
    "type(myset)\n",
    "\n",
    "#"
   ]
  },
  {
   "cell_type": "code",
   "execution_count": 2,
   "metadata": {},
   "outputs": [],
   "source": [
    "family = (['dad', 60], ['mom', 40])\n",
    "#family[0] = ['son', 11] <= error\n",
    "family[0][0] = 'son'\n"
   ]
  },
  {
   "cell_type": "code",
   "execution_count": 13,
   "metadata": {},
   "outputs": [],
   "source": [
    "grades= {'kim':'A', 'Lee':'B', 'Kang':'C', 'park':'B'}"
   ]
  },
  {
   "cell_type": "code",
   "execution_count": 14,
   "metadata": {},
   "outputs": [
    {
     "data": {
      "text/plain": [
       "dict_items([('kim', 'A'), ('Lee', 'B'), ('Kang', 'C'), ('park', 'B')])"
      ]
     },
     "execution_count": 14,
     "metadata": {},
     "output_type": "execute_result"
    }
   ],
   "source": [
    "grades.items()"
   ]
  },
  {
   "cell_type": "code",
   "execution_count": 21,
   "metadata": {},
   "outputs": [],
   "source": [
    "grades_inv = {'A':[]}\n",
    "for student, grade in grades.items() :\n",
    "    if grade in grades_inv :\n",
    "        grades_inv[grade].append(student)\n",
    "    else :\n",
    "        grades_inv[grade] = [student]"
   ]
  },
  {
   "cell_type": "code",
   "execution_count": 22,
   "metadata": {},
   "outputs": [
    {
     "data": {
      "text/plain": [
       "{'A': ['kim'], 'B': ['Lee', 'park'], 'C': ['Kang']}"
      ]
     },
     "execution_count": 22,
     "metadata": {},
     "output_type": "execute_result"
    }
   ],
   "source": [
    "grades_inv"
   ]
  },
  {
   "cell_type": "code",
   "execution_count": null,
   "metadata": {},
   "outputs": [],
   "source": []
  }
 ],
 "metadata": {
  "kernelspec": {
   "display_name": ".venv",
   "language": "python",
   "name": "python3"
  },
  "language_info": {
   "codemirror_mode": {
    "name": "ipython",
    "version": 3
   },
   "file_extension": ".py",
   "mimetype": "text/x-python",
   "name": "python",
   "nbconvert_exporter": "python",
   "pygments_lexer": "ipython3",
   "version": "3.10.10"
  },
  "orig_nbformat": 4
 },
 "nbformat": 4,
 "nbformat_minor": 2
}
