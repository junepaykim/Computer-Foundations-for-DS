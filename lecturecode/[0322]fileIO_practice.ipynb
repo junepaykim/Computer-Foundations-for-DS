{
 "cells": [
  {
   "cell_type": "markdown",
   "metadata": {},
   "source": [
    "# Practice 1 - Cafe menu"
   ]
  },
  {
   "cell_type": "markdown",
   "metadata": {},
   "source": [
    "### 1) Output: list of lists"
   ]
  },
  {
   "cell_type": "code",
   "execution_count": 1,
   "metadata": {},
   "outputs": [],
   "source": [
    "from typing import TextIO, List\n",
    "def menu(filename : TextIO) -> List[List]:\n",
    "    ##### Write your Code Here #####\n",
    "    outList = []\n",
    "    with open(filename, 'r') as f :\n",
    "        line = f.readline()\n",
    "        while line :\n",
    "            line = line.split()\n",
    "            outList.append(line)\n",
    "            line = f.readline()\n",
    "    return outList\n",
    "    ##### End of your code #####\n",
    "    "
   ]
  },
  {
   "cell_type": "code",
   "execution_count": 2,
   "metadata": {},
   "outputs": [
    {
     "data": {
      "text/plain": [
       "[['Americano', '3.66', '4.11', '4.56'],\n",
       " ['CafeLatte', '4.11', '4.56', '5.00'],\n",
       " ['CafeMocha', '4.55', '5.00', '5.45'],\n",
       " ['DecafeCaffeLatte', '4.38', '4.82']]"
      ]
     },
     "execution_count": 2,
     "metadata": {},
     "output_type": "execute_result"
    }
   ],
   "source": [
    "menu('menu.txt')"
   ]
  },
  {
   "cell_type": "markdown",
   "metadata": {},
   "source": [
    "### 2) Output: list of strings in reverse order"
   ]
  },
  {
   "cell_type": "code",
   "execution_count": 3,
   "metadata": {},
   "outputs": [],
   "source": [
    "from typing import TextIO, List\n",
    "def reverse_menu(filename: TextIO) -> list:\n",
    "    ##### Write your Code Here #####        \n",
    "    ans = []\n",
    "    with open(filename, 'r') as f :\n",
    "        line = f.readlines()\n",
    "        for i in range(len(line)-1,-1,-1) :\n",
    "            ans.append(line[i].strip())\n",
    "    return ans\n",
    "    ##### End of your code #####"
   ]
  },
  {
   "cell_type": "code",
   "execution_count": 4,
   "metadata": {},
   "outputs": [
    {
     "data": {
      "text/plain": [
       "['DecafeCaffeLatte 4.38 4.82',\n",
       " 'CafeMocha 4.55 5.00 5.45',\n",
       " 'CafeLatte 4.11 4.56 5.00',\n",
       " 'Americano 3.66 4.11 4.56']"
      ]
     },
     "execution_count": 4,
     "metadata": {},
     "output_type": "execute_result"
    }
   ],
   "source": [
    "reverse_menu('menu.txt')"
   ]
  },
  {
   "cell_type": "markdown",
   "metadata": {},
   "source": [
    "# Practice 2 - Find The largest number"
   ]
  },
  {
   "cell_type": "code",
   "execution_count": 6,
   "metadata": {},
   "outputs": [],
   "source": [
    "from typing import TextIO\n",
    "\n",
    "\n",
    "def find_largest_number(filename: TextIO) -> int:\n",
    "    ##### Write your Code Here #####\n",
    "    maxNum = 0\n",
    "    with open(filename, 'r') as file :\n",
    "        line = file.readline()\n",
    "        while line :\n",
    "            if not line.startswith('#') :\n",
    "                valid_line = line.split('#')[0].strip()\n",
    "                numStrings = valid_line.split('.')\n",
    "                for numString in numStrings :\n",
    "                    num = 0\n",
    "                    if numString :\n",
    "                        num = int(numString.strip())\n",
    "                    if maxNum < num :\n",
    "                        maxNum = num\n",
    "            line = file.readline()\n",
    "    return maxNum\n",
    "    ##### End of your code #####\n"
   ]
  },
  {
   "cell_type": "code",
   "execution_count": 7,
   "metadata": {},
   "outputs": [
    {
     "data": {
      "text/plain": [
       "6721"
      ]
     },
     "execution_count": 7,
     "metadata": {},
     "output_type": "execute_result"
    }
   ],
   "source": [
    "find_largest_number('file_practice.txt')"
   ]
  },
  {
   "cell_type": "code",
   "execution_count": null,
   "metadata": {},
   "outputs": [],
   "source": []
  }
 ],
 "metadata": {
  "kernelspec": {
   "display_name": "Python 3.10.5 64-bit",
   "language": "python",
   "name": "python3"
  },
  "language_info": {
   "codemirror_mode": {
    "name": "ipython",
    "version": 3
   },
   "file_extension": ".py",
   "mimetype": "text/x-python",
   "name": "python",
   "nbconvert_exporter": "python",
   "pygments_lexer": "ipython3",
   "version": "3.10.10"
  },
  "orig_nbformat": 4,
  "vscode": {
   "interpreter": {
    "hash": "aee8b7b246df8f9039afb4144a1f6fd8d2ca17a180786b69acc140d282b71a49"
   }
  }
 },
 "nbformat": 4,
 "nbformat_minor": 2
}
