{
 "cells": [
  {
   "cell_type": "markdown",
   "metadata": {},
   "source": [
    "# In-class Exercise"
   ]
  },
  {
   "cell_type": "markdown",
   "metadata": {},
   "source": [
    "## Q1. Cartesian Plane"
   ]
  },
  {
   "cell_type": "markdown",
   "metadata": {},
   "source": [
    "Write two classes `Point` and `Line` that give the same output as below:\n",
    "```python\n",
    "line = Line(Point(1,1), Point(3,2)) # a line comprised of two 2D points\n",
    "line.slope() \n",
    "# 0.5\n",
    "line.length() \n",
    "# 2.23606797749979\n",
    "```"
   ]
  },
  {
   "cell_type": "code",
   "execution_count": 1,
   "metadata": {},
   "outputs": [],
   "source": [
    "class Point():\n",
    "    def __init__(self, x:int, y:int) -> None:\n",
    "        self.x = x\n",
    "        self.y = y"
   ]
  },
  {
   "cell_type": "code",
   "execution_count": 3,
   "metadata": {},
   "outputs": [],
   "source": [
    "class Line():\n",
    "    def __init__(self, point_a : Point, point_b : Point) -> None:\n",
    "        self.point_a = point_a\n",
    "        self.point_b = point_b\n",
    "        \n",
    "    def slope(self) :\n",
    "        width = self.point_a.x - self.point_b.x\n",
    "        height = self.point_a.y - self.point_b.y\n",
    "        return width / height\n",
    "    def length(self) :\n",
    "        width = self.point_a.x - self.point_b.x\n",
    "        height = self.point_a.y - self.point_b.y\n",
    "        return sqrt(width ** 2 + height ** 2)"
   ]
  },
  {
   "cell_type": "code",
   "execution_count": 7,
   "metadata": {},
   "outputs": [],
   "source": [
    "line = Line(Point(1,1), Point(3,2))"
   ]
  },
  {
   "cell_type": "code",
   "execution_count": 8,
   "metadata": {},
   "outputs": [
    {
     "data": {
      "text/plain": [
       "0.5"
      ]
     },
     "execution_count": 8,
     "metadata": {},
     "output_type": "execute_result"
    }
   ],
   "source": [
    "line.slope()"
   ]
  },
  {
   "cell_type": "code",
   "execution_count": 9,
   "metadata": {},
   "outputs": [
    {
     "data": {
      "text/plain": [
       "2.23606797749979"
      ]
     },
     "execution_count": 9,
     "metadata": {},
     "output_type": "execute_result"
    }
   ],
   "source": [
    "line.length()"
   ]
  },
  {
   "cell_type": "markdown",
   "metadata": {},
   "source": [
    "## Q2. Inheritance"
   ]
  },
  {
   "cell_type": "markdown",
   "metadata": {},
   "source": [
    "Write `Member` class and inherit this class to `Student` class and `Faculty` class."
   ]
  },
  {
   "cell_type": "markdown",
   "metadata": {},
   "source": [
    "Member $\\rightarrow$ name + address + email + DoB + affiliation + infoList"
   ]
  },
  {
   "cell_type": "code",
   "execution_count": 1,
   "metadata": {},
   "outputs": [],
   "source": [
    "class Member:\n",
    "    def __init__(self, name: str, address: str, email: str, DoB : str, affiliation: str) -> None:\n",
    "        pass\n",
    "    \n",
    "    def printInfo(self) -> None:\n",
    "        pass\n",
    "\n",
    "    def switch_affiliation(self, new_affiliation: str) -> None:\n",
    "        pass\n",
    "    "
   ]
  },
  {
   "cell_type": "markdown",
   "metadata": {},
   "source": [
    "Student $\\rightarrow$ Member + student_num + advisor + courses_taken + GPA + infoList addition"
   ]
  },
  {
   "cell_type": "code",
   "execution_count": 2,
   "metadata": {},
   "outputs": [],
   "source": [
    "class Student(Member):\n",
    "    def __init__(self, name: str, address: str, email: str, DoB: str, affiliation: str, student_num: str) -> None:\n",
    "        pass\n",
    "    \n",
    "    def switch_affiliation(self, new_affiliation: str) -> None:\n",
    "        pass"
   ]
  },
  {
   "cell_type": "markdown",
   "metadata": {},
   "source": [
    "Faculty $\\rightarrow$ Member + faculty_num + advisees + courses_teaching + infoList addition"
   ]
  },
  {
   "cell_type": "code",
   "execution_count": 3,
   "metadata": {},
   "outputs": [],
   "source": [
    "class Faculty(Member):\n",
    "    def __init__(self, name: str, address: str, email: str, DoB: str, affiliation: str, faculty_num: str) -> None:\n",
    "        pass\n",
    "    \n",
    "    def switch_affiliation(self, new_affiliation: str) -> None:\n",
    "        pass\n",
    "        \n",
    "    def get_student(self, advisee: Student) -> None:\n",
    "        pass"
   ]
  },
  {
   "cell_type": "code",
   "execution_count": 4,
   "metadata": {},
   "outputs": [],
   "source": [
    "hyunwooPark = Faculty(\"Hyun-Woo Park\", \"942-417\", \"hyunwoopark@snu.ac.kr\", \"901008\", \"Data Science\", \"A12345678\")"
   ]
  },
  {
   "cell_type": "code",
   "execution_count": 5,
   "metadata": {},
   "outputs": [],
   "source": [
    "hyunwooPark.takeOnCourse(\"CFDS0\", 2023)\n",
    "hyunwooPark.takeOnCourse(\"Data Visualization\", 2023)\n",
    "hyunwooPark.takeOnCourse(\"Data Visualization\", 2022)"
   ]
  },
  {
   "cell_type": "code",
   "execution_count": 6,
   "metadata": {},
   "outputs": [
    {
     "name": "stdout",
     "output_type": "stream",
     "text": [
      "Prof.Hyun-Woo Park took on CFDS0 at 2023\n",
      "Prof.Hyun-Woo Park took on Data Visualization at 2023\n",
      "Prof.Hyun-Woo Park took on Data Visualization at 2022\n"
     ]
    }
   ],
   "source": [
    "hyunwooPark.resume()"
   ]
  },
  {
   "cell_type": "code",
   "execution_count": 7,
   "metadata": {},
   "outputs": [],
   "source": [
    "SangwooHeo = Student(\"Sang-woo Heo\", \"942-414\", \"hsw@snu.ac.kr\", \"900101\", \"Data Science\", \"2022-12345\")"
   ]
  },
  {
   "cell_type": "code",
   "execution_count": 8,
   "metadata": {},
   "outputs": [
    {
     "name": "stdout",
     "output_type": "stream",
     "text": [
      "Sang-woo Heo enters the Prof.Hyun-Woo Park's lab\n"
     ]
    }
   ],
   "source": [
    "hyunwooPark.get_student(SangwooHeo)"
   ]
  },
  {
   "cell_type": "markdown",
   "metadata": {},
   "source": [
    "## Q3-1. Country"
   ]
  },
  {
   "cell_type": "markdown",
   "metadata": {},
   "source": [
    "Write class `Country`."
   ]
  },
  {
   "cell_type": "markdown",
   "metadata": {},
   "source": [
    "- a. By using `__init__` method, make class `Country` that takes `name`, `population`, `area` as parameters. The example looks like below. <br>\n",
    "  ```python\n",
    "  canada = Country(\"Canada\", 34482779, 9984670)\n",
    "  canada.name \n",
    "  # 34482779\n",
    "  canada.area \n",
    "  # 9984670\n",
    "  ```"
   ]
  },
  {
   "cell_type": "markdown",
   "metadata": {},
   "source": [
    "- b. define `is_larger` method.\n",
    "  - `is_lager` : a method that returns `True` only when the first country has a larger area than the second country. (Return `False` if area is the same)\n",
    "  - The example looks like below <br>\n",
    "    ```python\n",
    "    usa = Country(\"United State of America\", 313914040, 9826675)\n",
    "    canada.is_larger(usa) \n",
    "    # True\n",
    "    ```"
   ]
  },
  {
   "cell_type": "markdown",
   "metadata": {},
   "source": [
    "- c. define `population_density` method.\n",
    "  - `population_density` : a method that returns the population density (number of people per area) of a country. (There is no case where the area is zero.)\n",
    "  - The example looks like below <br>\n",
    "    ```python\n",
    "    canada.population_densitiy() \n",
    "    # 3.4535722262227995\n",
    "    ```"
   ]
  },
  {
   "cell_type": "code",
   "execution_count": 17,
   "metadata": {},
   "outputs": [],
   "source": [
    "# Do not edit this code!\n",
    "# This code help Country class recognize itself\n",
    "from __future__ import annotations"
   ]
  },
  {
   "cell_type": "code",
   "execution_count": 18,
   "metadata": {},
   "outputs": [],
   "source": [
    "class Country:\n",
    "    def __init__(self, name: str, population: int, area: int) -> None:\n",
    "        # 4-a. Write your code below\n",
    "        pass\n",
    "\n",
    "    def is_larger(self, compare: Country) -> bool:\n",
    "        # 4-b. Write your code below\n",
    "        pass\n",
    "    def population_density(self) -> float:\n",
    "        # 4-c. Write your code below\n",
    "        pass"
   ]
  },
  {
   "cell_type": "code",
   "execution_count": 14,
   "metadata": {},
   "outputs": [
    {
     "name": "stdout",
     "output_type": "stream",
     "text": [
      "Canada\n",
      "9984670\n"
     ]
    }
   ],
   "source": [
    "canada = Country(\"Canada\", 34482779, 9984670)\n",
    "print(canada.name) \n",
    "print(canada.area)"
   ]
  },
  {
   "cell_type": "code",
   "execution_count": 15,
   "metadata": {},
   "outputs": [
    {
     "data": {
      "text/plain": [
       "True"
      ]
     },
     "execution_count": 15,
     "metadata": {},
     "output_type": "execute_result"
    }
   ],
   "source": [
    "usa = Country(\"United State of America\", 313914040, 9826675)\n",
    "canada.is_larger(usa) "
   ]
  },
  {
   "cell_type": "code",
   "execution_count": 16,
   "metadata": {},
   "outputs": [
    {
     "data": {
      "text/plain": [
       "3.4535722262227995"
      ]
     },
     "execution_count": 16,
     "metadata": {},
     "output_type": "execute_result"
    }
   ],
   "source": [
    "canada.population_density() "
   ]
  },
  {
   "cell_type": "markdown",
   "metadata": {},
   "source": [
    "## Q3-2. Continent"
   ]
  },
  {
   "cell_type": "markdown",
   "metadata": {},
   "source": [
    "Write `Continent` class that takes `name` and `Countries` as parameters.<br>\n",
    "(Country class is same one which you've just implemented at Q3-1)"
   ]
  },
  {
   "cell_type": "markdown",
   "metadata": {},
   "source": [
    "- a. By using `__init__` method, make class `Continent` that takes `name`, `countries` as parameters.\n",
    "  - `Countries` is a list of `Country` objects.\n",
    "  - `Countries` at least has more than one element.\n",
    "  - The example looks like below. <br>\n",
    "    ```python\n",
    "    canada = Country('Canada', 34482779, 9984670)\n",
    "    usa = Country('United States of America', 313914040, 9826675)\n",
    "    mexico = Country('Mexico', 112336538, 1943950)\n",
    "    countries = [canada, usa, mexico]\n",
    "    north_america = Continent('North America', countries)\n",
    "    north_america.name \n",
    "    # North America\n",
    "    ```"
   ]
  },
  {
   "cell_type": "markdown",
   "metadata": {},
   "source": [
    "- b. define `total_population` method.\n",
    "  - `total_poulation method` : a method that returns the sum of the population of countries belonging to the continent\n",
    "  - The example looks like below <br>\n",
    "    ```python\n",
    "    north_america.total_population() \n",
    "    # 460733357\n",
    "    ```"
   ]
  },
  {
   "cell_type": "code",
   "execution_count": 101,
   "metadata": {},
   "outputs": [],
   "source": [
    "class Continent:\n",
    "    def __init__(self, name: str, countries: list[Country]) -> None:\n",
    "        # Q5-a. Write your code below\n",
    "        pass\n",
    "\n",
    "    def total_population(self) -> int:\n",
    "        # Q5-b. Write your code below\n",
    "        pass   "
   ]
  },
  {
   "cell_type": "code",
   "execution_count": 102,
   "metadata": {},
   "outputs": [
    {
     "data": {
      "text/plain": [
       "'North America'"
      ]
     },
     "execution_count": 102,
     "metadata": {},
     "output_type": "execute_result"
    }
   ],
   "source": [
    "canada = Country('Canada', 34482779, 9984670)\n",
    "usa = Country('United States of America', 313914040, 9826675)\n",
    "mexico = Country('Mexico', 112336538, 1943950)\n",
    "countries = [canada, usa, mexico]\n",
    "north_america = Continent('North America', countries)\n",
    "north_america.name"
   ]
  },
  {
   "cell_type": "code",
   "execution_count": 103,
   "metadata": {},
   "outputs": [
    {
     "data": {
      "text/plain": [
       "460733357"
      ]
     },
     "execution_count": 103,
     "metadata": {},
     "output_type": "execute_result"
    }
   ],
   "source": [
    "north_america.total_population()"
   ]
  }
 ],
 "metadata": {
  "kernelspec": {
   "display_name": "Python 3.10.5 64-bit",
   "language": "python",
   "name": "python3"
  },
  "language_info": {
   "codemirror_mode": {
    "name": "ipython",
    "version": 3
   },
   "file_extension": ".py",
   "mimetype": "text/x-python",
   "name": "python",
   "nbconvert_exporter": "python",
   "pygments_lexer": "ipython3",
   "version": "3.10.5"
  },
  "orig_nbformat": 4,
  "vscode": {
   "interpreter": {
    "hash": "aee8b7b246df8f9039afb4144a1f6fd8d2ca17a180786b69acc140d282b71a49"
   }
  }
 },
 "nbformat": 4,
 "nbformat_minor": 2
}
