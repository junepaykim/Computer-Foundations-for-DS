{
 "cells": [
  {
   "attachments": {},
   "cell_type": "markdown",
   "metadata": {},
   "source": [
    "# **Exercise** 23/03/29"
   ]
  },
  {
   "cell_type": "markdown",
   "metadata": {},
   "source": [
    "# Linear Search : find the index"
   ]
  },
  {
   "cell_type": "code",
   "execution_count": 1,
   "metadata": {},
   "outputs": [],
   "source": [
    "# make a random array\n",
    "import random\n",
    "listSize = 10000000\n",
    "nums = list(range(listSize))\n",
    "random.shuffle(nums)"
   ]
  },
  {
   "cell_type": "code",
   "execution_count": 2,
   "metadata": {},
   "outputs": [],
   "source": [
    "# complete linear search function #\n",
    "def find_idx(L:list, num:int):\n",
    "    # write your code here\n",
    "    for i, item in enumerate(L) :\n",
    "        if item == num :\n",
    "            return i\n",
    "    return -1"
   ]
  },
  {
   "cell_type": "code",
   "execution_count": 3,
   "metadata": {},
   "outputs": [
    {
     "name": "stdout",
     "output_type": "stream",
     "text": [
      "5292115\n",
      "Latency: 144.508544921875 ms\n"
     ]
    }
   ],
   "source": [
    "import time\n",
    "\n",
    "start = time.time()*1000\n",
    "print(find_idx(nums, 3396))\n",
    "end = time.time()*1000\n",
    "\n",
    "print(\"Latency:\", end-start, \"ms\")"
   ]
  },
  {
   "cell_type": "code",
   "execution_count": 10,
   "metadata": {},
   "outputs": [
    {
     "name": "stdout",
     "output_type": "stream",
     "text": [
      "7714901\n",
      "Latency: 282.64794921875 ms\n"
     ]
    }
   ],
   "source": [
    "start = time.time()*1000\n",
    "print(nums.index(3396))\n",
    "end = time.time()*1000\n",
    "\n",
    "print(\"Latency:\", end-start, \"ms\")"
   ]
  }
 ],
 "metadata": {
  "kernelspec": {
   "display_name": "Python 3.9.10 64-bit ('3.9.10')",
   "language": "python",
   "name": "python3"
  },
  "language_info": {
   "codemirror_mode": {
    "name": "ipython",
    "version": 3
   },
   "file_extension": ".py",
   "mimetype": "text/x-python",
   "name": "python",
   "nbconvert_exporter": "python",
   "pygments_lexer": "ipython3",
   "version": "3.10.10"
  },
  "orig_nbformat": 4,
  "vscode": {
   "interpreter": {
    "hash": "bdf171008f7f94bb9a9655f8b98be42976f175d5e0f2758d662f461298401f1f"
   }
  }
 },
 "nbformat": 4,
 "nbformat_minor": 2
}
